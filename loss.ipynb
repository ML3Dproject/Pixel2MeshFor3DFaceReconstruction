{
 "cells": [
  {
   "cell_type": "code",
   "execution_count": 1,
   "metadata": {},
   "outputs": [],
   "source": [
    "import pandas as pd"
   ]
  },
  {
   "cell_type": "code",
   "execution_count": 2,
   "metadata": {},
   "outputs": [],
   "source": [
    "pd.set_option('display.max_columns',1000)"
   ]
  },
  {
   "cell_type": "code",
   "execution_count": 3,
   "metadata": {},
   "outputs": [],
   "source": [
    "from utils.mesh import Ellipsoid\n",
    "import torch\n",
    "import torch.nn as nn\n",
    "import torch.nn.functional as F\n",
    "\n",
    "from models.layers.chamfer_wrapper import ChamferDist"
   ]
  },
  {
   "cell_type": "code",
   "execution_count": 4,
   "metadata": {},
   "outputs": [],
   "source": [
    "import os\n",
    "import pickle\n",
    "\n",
    "import numpy as np\n",
    "import torch\n",
    "import trimesh\n",
    "from scipy.sparse import coo_matrix\n",
    "\n",
    "import config"
   ]
  },
  {
   "cell_type": "code",
   "execution_count": 5,
   "metadata": {},
   "outputs": [
    {
     "name": "stdout",
     "output_type": "stream",
     "text": [
      "10\n"
     ]
    }
   ],
   "source": [
    "a =  torch.Tensor([[2,14,11,4,-1,-1,-1,-1,1,4],[5,6,7,13,8,-1,-1,-1,2,5]])\n",
    "print(a.size(-1))"
   ]
  },
  {
   "cell_type": "code",
   "execution_count": null,
   "metadata": {},
   "outputs": [],
   "source": [
    "只是单纯实验"
   ]
  },
  {
   "cell_type": "code",
   "execution_count": null,
   "metadata": {},
   "outputs": [],
   "source": [
    "a =  torch.Tensor([[2,14,11,4,-1,-1,-1,-1,1,4],[5,6,7,13,8,-1,-1,-1,2,5]])\n",
    "b = a[:, :-2]\n",
    "invalid_mask = b < 0\n",
    "all_valid_indices = b\n",
    "all_valid_indices[invalid_mask] = 0 \n",
    "print(all_valid_indices)\n",
    "inputs = np.array([[[2,3,4],[3,6,8],[-3,56,68],[23,-6,-8],[13,26,38],[43,-6,-8],[-3,-6,8],[3,-6,8],[-3,6,8],[-39,6,8],[53,6,8],[53,6,8],[63,6,28],[43,56,8],[43,56,28]]])\n",
    "\n",
    "vertices = inputs[:, all_valid_indices]\n",
    "print(vertices)\n",
    "\n",
    "vertices[:, invalid_mask] = 0\n",
    "neighbor_sum = torch.sum(vertices, 2)\n",
    "neighbor_count = lap_idx[:, -1].float()\n",
    "laplace = inputs - neighbor_sum / neighbor_count[None, :, None]"
   ]
  },
  {
   "cell_type": "code",
   "execution_count": 24,
   "metadata": {},
   "outputs": [
    {
     "name": "stdout",
     "output_type": "stream",
     "text": [
      "[[[122 176 188]\n",
      "  [123  94  84]]]\n",
      "[[[30.5 44.  47. ]\n",
      "  [24.6 18.8 16.8]]]\n"
     ]
    }
   ],
   "source": [
    "#example to test!\n",
    "b =  np.array([[2,14,11,4,-1,-1,-1,-1,1,4],[5,6,7,13,8,-1,-1,-1,2,5]])\n",
    "invalid_mask = b < 0\n",
    "all_valid_indices = b\n",
    "all_valid_indices[invalid_mask] = 0 \n",
    "# print(all_valid_indices)\n",
    "inputs = np.array([[[2,3,4],[3,6,8],[-3,56,68],[23,-6,-8],[13,26,38],[43,-6,-8],[-3,-6,8],[3,-6,8],[-3,6,8],[-39,6,8],[53,6,8],[53,6,8],[63,6,28],[43,56,8],[43,56,28]]])\n",
    "\n",
    "vertices = inputs[:, all_valid_indices]\n",
    "# print(vertices)\n",
    "\n",
    "vertices[:, invalid_mask] = 0\n",
    "neighbor_sum = np.sum(vertices, 2)\n",
    "neighbor_count = b[:, -1]\n",
    "print(neighbor_sum)\n",
    "laplace = neighbor_sum / neighbor_count[None, :, None]\n",
    "print(laplace)"
   ]
  },
  {
   "cell_type": "code",
   "execution_count": 26,
   "metadata": {},
   "outputs": [
    {
     "name": "stdout",
     "output_type": "stream",
     "text": [
      "tensor([[[  1.,   3.,  46.],\n",
      "         [  2., 832., 336.]]])\n",
      "tensor([[  2., 832., 336.]])\n"
     ]
    }
   ],
   "source": [
    "x1 = torch.Tensor([[[3,53,6],[2,82,36]]])\n",
    "x2 = torch.Tensor([[[1,3,46],[2,832,336]]])\n",
    "x3 = torch.Tensor([[[3,553,65],[52,852,436]]])\n",
    "x = [x1,x2,x3]\n",
    "print(x[1])\n",
    "print(x[1][:,1])"
   ]
  },
  {
   "cell_type": "code",
   "execution_count": 21,
   "metadata": {},
   "outputs": [
    {
     "name": "stdout",
     "output_type": "stream",
     "text": [
      "[tensor([[  1,   2,   7,  ...,  -1,   0,   7],\n",
      "        [  0,   2,   3,  ...,  -1,   1,   7],\n",
      "        [  0,   1,   4,  ...,  -1,   2,   5],\n",
      "        ...,\n",
      "        [129, 132, 133,  ...,  -1, 153,   7],\n",
      "        [135, 140, 142,  ...,  -1, 154,   5],\n",
      "        [136, 137, 142,  ...,  -1, 155,   7]])]\n",
      "tensor([[[7.],\n",
      "         [7.],\n",
      "         [5.],\n",
      "         [6.],\n",
      "         [8.],\n",
      "         [4.],\n",
      "         [7.],\n",
      "         [7.],\n",
      "         [5.],\n",
      "         [5.],\n",
      "         [6.],\n",
      "         [5.],\n",
      "         [6.],\n",
      "         [7.],\n",
      "         [6.],\n",
      "         [6.],\n",
      "         [6.],\n",
      "         [6.],\n",
      "         [6.],\n",
      "         [6.],\n",
      "         [5.],\n",
      "         [6.],\n",
      "         [7.],\n",
      "         [5.],\n",
      "         [7.],\n",
      "         [6.],\n",
      "         [4.],\n",
      "         [5.],\n",
      "         [7.],\n",
      "         [6.],\n",
      "         [5.],\n",
      "         [7.],\n",
      "         [4.],\n",
      "         [6.],\n",
      "         [6.],\n",
      "         [5.],\n",
      "         [5.],\n",
      "         [7.],\n",
      "         [5.],\n",
      "         [7.],\n",
      "         [4.],\n",
      "         [7.],\n",
      "         [6.],\n",
      "         [6.],\n",
      "         [7.],\n",
      "         [5.],\n",
      "         [6.],\n",
      "         [6.],\n",
      "         [6.],\n",
      "         [5.],\n",
      "         [7.],\n",
      "         [7.],\n",
      "         [5.],\n",
      "         [8.],\n",
      "         [6.],\n",
      "         [6.],\n",
      "         [5.],\n",
      "         [6.],\n",
      "         [6.],\n",
      "         [8.],\n",
      "         [5.],\n",
      "         [6.],\n",
      "         [5.],\n",
      "         [6.],\n",
      "         [6.],\n",
      "         [6.],\n",
      "         [5.],\n",
      "         [5.],\n",
      "         [7.],\n",
      "         [7.],\n",
      "         [6.],\n",
      "         [6.],\n",
      "         [7.],\n",
      "         [6.],\n",
      "         [5.],\n",
      "         [6.],\n",
      "         [5.],\n",
      "         [6.],\n",
      "         [6.],\n",
      "         [6.],\n",
      "         [6.],\n",
      "         [5.],\n",
      "         [5.],\n",
      "         [6.],\n",
      "         [8.],\n",
      "         [5.],\n",
      "         [6.],\n",
      "         [6.],\n",
      "         [6.],\n",
      "         [6.],\n",
      "         [6.],\n",
      "         [6.],\n",
      "         [7.],\n",
      "         [6.],\n",
      "         [6.],\n",
      "         [5.],\n",
      "         [4.],\n",
      "         [5.],\n",
      "         [4.],\n",
      "         [6.],\n",
      "         [6.],\n",
      "         [6.],\n",
      "         [5.],\n",
      "         [8.],\n",
      "         [6.],\n",
      "         [6.],\n",
      "         [5.],\n",
      "         [6.],\n",
      "         [6.],\n",
      "         [8.],\n",
      "         [6.],\n",
      "         [5.],\n",
      "         [6.],\n",
      "         [5.],\n",
      "         [6.],\n",
      "         [5.],\n",
      "         [6.],\n",
      "         [5.],\n",
      "         [6.],\n",
      "         [8.],\n",
      "         [8.],\n",
      "         [5.],\n",
      "         [6.],\n",
      "         [5.],\n",
      "         [6.],\n",
      "         [6.],\n",
      "         [6.],\n",
      "         [6.],\n",
      "         [6.],\n",
      "         [5.],\n",
      "         [6.],\n",
      "         [6.],\n",
      "         [5.],\n",
      "         [7.],\n",
      "         [7.],\n",
      "         [6.],\n",
      "         [5.],\n",
      "         [5.],\n",
      "         [6.],\n",
      "         [6.],\n",
      "         [5.],\n",
      "         [7.],\n",
      "         [6.],\n",
      "         [6.],\n",
      "         [6.],\n",
      "         [6.],\n",
      "         [7.],\n",
      "         [6.],\n",
      "         [5.],\n",
      "         [6.],\n",
      "         [7.],\n",
      "         [6.],\n",
      "         [5.],\n",
      "         [7.],\n",
      "         [5.],\n",
      "         [7.]]])\n"
     ]
    }
   ],
   "source": [
    "with open('datasets/data/ellipsoid/pixel2mesh_aux_4stages.dat', \"rb\") as fp:\n",
    "            fp_info = pickle.load(fp, encoding='latin1')\n",
    "# print(fp_info[0])# shape: n_pts * 3\n",
    "# print(fp_info[1][1][0])\n",
    "# print(fp_info)\n",
    "laplace_idx = []\n",
    "laplace_idx.append(torch.tensor(fp_info[7][0], dtype=torch.long))\n",
    "print(laplace_idx)#very important!! laplace_idx is in a [], if we want to get out the number, we need add [0] first\n",
    "neighbor_count = laplace_idx[0][:, -1].float()#-1 to represent None\n",
    "print(neighbor_count[None, :, None])"
   ]
  },
  {
   "cell_type": "code",
   "execution_count": 32,
   "metadata": {},
   "outputs": [
    {
     "name": "stdout",
     "output_type": "stream",
     "text": [
      "tensor([[  0,   0],\n",
      "        [  0,   1],\n",
      "        [  0,   2],\n",
      "        ...,\n",
      "        [155, 153],\n",
      "        [155, 154],\n",
      "        [155, 155]])\n",
      "tensor([  0,   1,   2,  ..., 153, 154, 155])\n"
     ]
    }
   ],
   "source": [
    "edges = []\n",
    "edges.append(torch.tensor(fp_info[1][1][0], dtype=torch.long))\n",
    "print(edges[0])\n",
    "print(edges[0][:,1])"
   ]
  },
  {
   "cell_type": "code",
   "execution_count": 15,
   "metadata": {},
   "outputs": [
    {
     "name": "stdout",
     "output_type": "stream",
     "text": [
      "tensor([[0, 0, 0,  ..., 1, 0, 0],\n",
      "        [0, 0, 0,  ..., 1, 0, 0],\n",
      "        [0, 0, 0,  ..., 1, 0, 0],\n",
      "        ...,\n",
      "        [0, 0, 0,  ..., 1, 0, 0],\n",
      "        [0, 0, 0,  ..., 1, 0, 0],\n",
      "        [0, 0, 0,  ..., 1, 0, 0]], dtype=torch.uint8)\n",
      "tensor([[  1,   2,   7,  ...,   0,   0,   7],\n",
      "        [  0,   2,   3,  ...,   0,   1,   7],\n",
      "        [  0,   1,   4,  ...,   0,   2,   5],\n",
      "        ...,\n",
      "        [129, 132, 133,  ...,   0, 153,   7],\n",
      "        [135, 140, 142,  ...,   0, 154,   5],\n",
      "        [136, 137, 142,  ...,   0, 155,   7]])\n"
     ]
    }
   ],
   "source": [
    "indices = laplace_idx[0]\n",
    "invalid_mask = indices < 0\n",
    "all_valid_indices = indices.clone()\n",
    "all_valid_indices[invalid_mask] = 0  # do this to avoid negative indices\n",
    "print(invalid_mask)\n",
    "print(all_valid_indices)"
   ]
  },
  {
   "cell_type": "code",
   "execution_count": 8,
   "metadata": {},
   "outputs": [
    {
     "name": "stdout",
     "output_type": "stream",
     "text": [
      "[[  0   0]\n",
      " [  0   1]\n",
      " [  0   2]\n",
      " ...\n",
      " [155 153]\n",
      " [155 154]\n",
      " [155 155]] [ 0.35482302 -0.19354615 -0.22900689 ... -0.19354615 -0.22900689\n",
      "  0.35482302] (156, 156)\n"
     ]
    }
   ],
   "source": [
    "print(*fp_info[1][1])"
   ]
  },
  {
   "cell_type": "code",
   "execution_count": 9,
   "metadata": {},
   "outputs": [
    {
     "ename": "SyntaxError",
     "evalue": "can't use starred expression here (2067671154.py, line 4)",
     "output_type": "error",
     "traceback": [
      "\u001b[0;36m  File \u001b[0;32m\"/tmp/ipykernel_3099/2067671154.py\"\u001b[0;36m, line \u001b[0;32m4\u001b[0m\n\u001b[0;31mSyntaxError\u001b[0m\u001b[0;31m:\u001b[0m can't use starred expression here\n"
     ]
    }
   ],
   "source": [
    "# indices, value, size = *fp_info[1][1]"
   ]
  },
  {
   "cell_type": "code",
   "execution_count": 6,
   "metadata": {},
   "outputs": [
    {
     "name": "stdout",
     "output_type": "stream",
     "text": [
      "[tensor([[  0,   0],\n",
      "        [  0,   1],\n",
      "        [  0,   2],\n",
      "        ...,\n",
      "        [155, 153],\n",
      "        [155, 154],\n",
      "        [155, 155]]), tensor([[  0,   0],\n",
      "        [  0, 156],\n",
      "        [  0, 157],\n",
      "        ...,\n",
      "        [617, 612],\n",
      "        [617, 616],\n",
      "        [617, 617]]), tensor([[   0,    0],\n",
      "        [   0,  618],\n",
      "        [   0,  619],\n",
      "        ...,\n",
      "        [2465, 2463],\n",
      "        [2465, 2464],\n",
      "        [2465, 2465]])]\n",
      "################\n",
      "tensor([[156, 157, 168,  ...,  -1,   0,   7],\n",
      "        [156, 158, 159,  ...,  -1,   1,   7],\n",
      "        [157, 158, 162,  ...,  -1,   2,   5],\n",
      "        ...,\n",
      "        [140, 154, 550,  ...,  -1, 615,   6],\n",
      "        [142, 154, 557,  ...,  -1, 616,   6],\n",
      "        [142, 155, 559,  ...,  -1, 617,   6]])\n"
     ]
    }
   ],
   "source": [
    "\n",
    "mesh_pos = [0., 0., -0.8]\n",
    "ellipsoid = Ellipsoid(mesh_pos)\n",
    "\n",
    "pd.set_option('display.max_columns',1000)\n",
    "pd.set_option('max_row',300)\n",
    "pd.set_option('display.float_format',lambda x:'%.5f' % x)\n",
    "\n",
    "print(ellipsoid.edges)\n",
    "print('################')\n",
    "print(ellipsoid.laplace_idx[1])\n"
   ]
  },
  {
   "cell_type": "code",
   "execution_count": 31,
   "metadata": {},
   "outputs": [
    {
     "name": "stdout",
     "output_type": "stream",
     "text": [
      "[[b'f' b'1' b'2' b'3']\n",
      " [b'f' b'2' b'4' b'5']\n",
      " [b'f' b'3' b'2' b'5']\n",
      " ...\n",
      " [b'f' b'143' b'141' b'155']\n",
      " [b'f' b'156' b'143' b'155']\n",
      " [b'f' b'143' b'156' b'137']]\n",
      "[[b'f' b'1' b'2' b'3']\n",
      " [b'f' b'2' b'4' b'5']\n",
      " [b'f' b'3' b'2' b'5']\n",
      " ...\n",
      " [b'f' b'143' b'141' b'155']\n",
      " [b'f' b'156' b'143' b'155']\n",
      " [b'f' b'143' b'156' b'137']]\n",
      "[[b'f' b'1' b'2' b'3']\n",
      " [b'f' b'2' b'4' b'5']\n",
      " [b'f' b'3' b'2' b'5']\n",
      " ...\n",
      " [b'f' b'143' b'141' b'155']\n",
      " [b'f' b'156' b'143' b'155']\n",
      " [b'f' b'143' b'156' b'137']]\n"
     ]
    }
   ],
   "source": [
    "faces = []\n",
    "obj_fmt_faces = []#usage??\n",
    "        # faces: f * 3, original ellipsoid, and two after deformations\n",
    "for i in range(1, 4):\n",
    "    face_file = os.path.join('datasets/data/ellipsoid/', \"face%d.obj\" % i)\n",
    "    faces = np.loadtxt(face_file, dtype='|S32')\n",
    "    obj_fmt_faces.append(faces)\n",
    "    print(obj_fmt_faces[0])\n",
    "#     faces.append(torch.tensor(faces[:, 1:].astype(np.int) - 1))"
   ]
  },
  {
   "cell_type": "code",
   "execution_count": 48,
   "metadata": {},
   "outputs": [
    {
     "name": "stdout",
     "output_type": "stream",
     "text": [
      "torch.Size([2, 3])\n",
      "tensor([ 3., 53.,  6.])\n",
      "##############\n",
      "tensor([1, 0])\n",
      "tensor([53.,  3.])\n",
      "tensor([ 2., 82., 36.])\n",
      "##############\n",
      "tensor([2, 0])\n",
      "tensor([36.,  2.])\n",
      "tensor([[53.,  3.],\n",
      "        [36.,  2.]])\n"
     ]
    }
   ],
   "source": [
    "gt_normal = torch.Tensor([[3,53,6],[2,82,36]])\n",
    "print(gt_normal.shape)\n",
    "indices = torch.Tensor([[1,0],[2,0]])\n",
    "for t, i in zip(gt_normal, indices.long()):\n",
    "    print(t)\n",
    "    print('##############')\n",
    "    print(i)\n",
    "    print(t[i])\n",
    "nearest_normals = torch.stack([t[i] for t, i in zip(gt_normal, indices.long())])#add one more []\n",
    "print(nearest_normals)"
   ]
  }
 ],
 "metadata": {
  "kernelspec": {
   "display_name": "3dproject",
   "language": "python",
   "name": "3dproject"
  },
  "language_info": {
   "codemirror_mode": {
    "name": "ipython",
    "version": 3
   },
   "file_extension": ".py",
   "mimetype": "text/x-python",
   "name": "python",
   "nbconvert_exporter": "python",
   "pygments_lexer": "ipython3",
   "version": "3.7.15 (default, Nov 24 2022, 21:12:53) \n[GCC 11.2.0]"
  },
  "orig_nbformat": 4
 },
 "nbformat": 4,
 "nbformat_minor": 2
}
