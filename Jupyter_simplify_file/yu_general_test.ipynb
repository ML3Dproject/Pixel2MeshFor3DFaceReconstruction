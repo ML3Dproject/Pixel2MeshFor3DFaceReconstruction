{
 "cells": [
  {
   "attachments": {},
   "cell_type": "markdown",
   "metadata": {},
   "source": [
    "## Import"
   ]
  },
  {
   "cell_type": "code",
   "execution_count": 1,
   "metadata": {},
   "outputs": [],
   "source": [
    "%reload_ext autoreload"
   ]
  },
  {
   "cell_type": "code",
   "execution_count": 2,
   "metadata": {},
   "outputs": [],
   "source": [
    "%autoreload 2"
   ]
  },
  {
   "cell_type": "code",
   "execution_count": 3,
   "metadata": {},
   "outputs": [],
   "source": [
    "import torch\n",
    "# from functions.trainer import Trainer\n",
    "from options import update_options, options, reset_options\n",
    "import argparse\n",
    "from tensorboardX import SummaryWriter\n",
    "from easydict import EasyDict as edict"
   ]
  },
  {
   "cell_type": "code",
   "execution_count": 4,
   "metadata": {},
   "outputs": [],
   "source": [
    "from pathlib import Path\n",
    "import numpy as np\n",
    "import matplotlib as plt\n",
    "import k3d\n",
    "import trimesh\n",
    "import torch\n",
    "import skimage"
   ]
  },
  {
   "cell_type": "code",
   "execution_count": 5,
   "metadata": {},
   "outputs": [
    {
     "name": "stderr",
     "output_type": "stream",
     "text": [
      "/root/miniconda3/envs/3dproject/lib/python3.7/site-packages/skimage/io/manage_plugins.py:23: UserWarning: Your installed pillow version is < 7.1.0. Several security issues (CVE-2020-11538, CVE-2020-10379, CVE-2020-10994, CVE-2020-10177) have been fixed in pillow 7.1.0 or higher. We recommend to upgrade this library.\n",
      "  from .collection import imread_collection_wrapper\n"
     ]
    }
   ],
   "source": [
    "import json\n",
    "import os\n",
    "import pickle\n",
    "\n",
    "import numpy as np\n",
    "import torch\n",
    "from PIL import Image\n",
    "from skimage import io, transform\n",
    "from torch.utils.data.dataloader import default_collate\n",
    "\n",
    "import config\n",
    "from datasets.base_dataset import BaseDataset\n",
    "import matplotlib.pyplot as plt\n",
    "from torchvision.transforms import Normalize\n",
    "\n",
    "from utils.visualization import visualize_occupancy, visualize_pointcloud, visualize_mesh"
   ]
  },
  {
   "cell_type": "code",
   "execution_count": 6,
   "metadata": {},
   "outputs": [],
   "source": [
    "import torchvision.transforms as transforms"
   ]
  },
  {
   "cell_type": "code",
   "execution_count": 7,
   "metadata": {},
   "outputs": [],
   "source": [
    "from torch.utils.data import DataLoader"
   ]
  },
  {
   "cell_type": "code",
   "execution_count": 8,
   "metadata": {},
   "outputs": [],
   "source": [
    "import PIL\n",
    "from PIL import Image"
   ]
  },
  {
   "cell_type": "code",
   "execution_count": 9,
   "metadata": {},
   "outputs": [],
   "source": [
    "from datasets.aflwnet import *"
   ]
  },
  {
   "attachments": {},
   "cell_type": "markdown",
   "metadata": {},
   "source": [
    "## Options"
   ]
  },
  {
   "cell_type": "code",
   "execution_count": 7,
   "metadata": {},
   "outputs": [
    {
     "data": {
      "text/plain": [
       "{'num_epochs': 50,\n",
       " 'batch_size': 4,\n",
       " 'summary_steps': 50,\n",
       " 'checkpoint_steps': 10000,\n",
       " 'test_epochs': 1,\n",
       " 'use_augmentation': True,\n",
       " 'shuffle': True}"
      ]
     },
     "execution_count": 7,
     "metadata": {},
     "output_type": "execute_result"
    }
   ],
   "source": [
    "options.train"
   ]
  },
  {
   "cell_type": "code",
   "execution_count": 8,
   "metadata": {},
   "outputs": [
    {
     "data": {
      "text/plain": [
       "{'name': 'pixel2mesh',\n",
       " 'hidden_dim': 192,\n",
       " 'last_hidden_dim': 192,\n",
       " 'coord_dim': 3,\n",
       " 'backbone': 'vgg16',\n",
       " 'gconv_activation': True,\n",
       " 'z_threshold': 0,\n",
       " 'align_with_tensorflow': False}"
      ]
     },
     "execution_count": 8,
     "metadata": {},
     "output_type": "execute_result"
    }
   ],
   "source": [
    "options.model"
   ]
  },
  {
   "cell_type": "code",
   "execution_count": 9,
   "metadata": {},
   "outputs": [
    {
     "data": {
      "text/plain": [
       "({'name': 'pixel2mesh',\n",
       "  'hidden_dim': 192,\n",
       "  'last_hidden_dim': 192,\n",
       "  'coord_dim': 3,\n",
       "  'backbone': 'vgg16',\n",
       "  'gconv_activation': True,\n",
       "  'z_threshold': 0,\n",
       "  'align_with_tensorflow': False},\n",
       " {'name': 'shapenet',\n",
       "  'subset_train': 'train_tf',\n",
       "  'subset_eval': 'test_tf',\n",
       "  'camera_f': [248.0, 248.0],\n",
       "  'camera_c': [111.5, 111.5],\n",
       "  'mesh_pos': [0.0, 0.0, -0.8],\n",
       "  'normalization': True,\n",
       "  'num_classes': 13,\n",
       "  'shapenet': {'num_points': 3000, 'resize_with_constant_border': False},\n",
       "  'predict': {'folder': '/tmp'}})"
      ]
     },
     "execution_count": 9,
     "metadata": {},
     "output_type": "execute_result"
    }
   ],
   "source": [
    "options.model, options.dataset"
   ]
  },
  {
   "cell_type": "code",
   "execution_count": 10,
   "metadata": {},
   "outputs": [
    {
     "data": {
      "text/plain": [
       "{'name': 'shapenet',\n",
       " 'subset_train': 'train_tf',\n",
       " 'subset_eval': 'test_tf',\n",
       " 'camera_f': [248.0, 248.0],\n",
       " 'camera_c': [111.5, 111.5],\n",
       " 'mesh_pos': [0.0, 0.0, -0.8],\n",
       " 'normalization': True,\n",
       " 'num_classes': 13,\n",
       " 'shapenet': {'num_points': 3000, 'resize_with_constant_border': False},\n",
       " 'predict': {'folder': '/tmp'}}"
      ]
     },
     "execution_count": 10,
     "metadata": {},
     "output_type": "execute_result"
    }
   ],
   "source": [
    "options.dataset"
   ]
  },
  {
   "cell_type": "code",
   "execution_count": 11,
   "metadata": {},
   "outputs": [
    {
     "data": {
      "text/plain": [
       "('checkpoints', None)"
      ]
     },
     "execution_count": 11,
     "metadata": {},
     "output_type": "execute_result"
    }
   ],
   "source": [
    "options.checkpoint_dir, options.checkpoint\n",
    "\n",
    "# 在CheckpointRunner中的line59: \n",
    "# self.saver = CheckpointSaver(self.logger, checkpoint_dir=str(self.options.checkpoint_dir),checkpoint_file=self.options.checkpoint)调用\n",
    "# 所以在调用时，self.saver = CheckpointSaver(self.logger, checkpoints, None)\n",
    "# if option.checkpoint = None, 那么self.checkpoint_file = self.get_latest_checkpoint()\n",
    "\n",
    "# saver初始化时候返回两个属性: self.save_dir, self.checkpoint_file\n",
    "# 这两个属性，在下面一句self.init_with_checkpoint()中被调用\n"
   ]
  },
  {
   "cell_type": "code",
   "execution_count": 12,
   "metadata": {},
   "outputs": [
    {
     "data": {
      "text/plain": [
       "{'weights': {'normal': 0.00016,\n",
       "  'edge': 0.3,\n",
       "  'laplace': 0.5,\n",
       "  'move': 0.1,\n",
       "  'constant': 1.0,\n",
       "  'chamfer': [1.0, 1.0, 1.0],\n",
       "  'chamfer_opposite': 1.0,\n",
       "  'reconst': 0.0}}"
      ]
     },
     "execution_count": 12,
     "metadata": {},
     "output_type": "execute_result"
    }
   ],
   "source": [
    "options.loss"
   ]
  },
  {
   "attachments": {},
   "cell_type": "markdown",
   "metadata": {},
   "source": [
    "## 其他"
   ]
  },
  {
   "cell_type": "code",
   "execution_count": 10,
   "metadata": {},
   "outputs": [
    {
     "name": "stdout",
     "output_type": "stream",
     "text": [
      "12.000000 (12.000000)\n",
      "20.000000 (16.000000)\n",
      "1.000000 (11.000000)\n"
     ]
    }
   ],
   "source": [
    "from utils.average_meter import AverageMeter\n",
    "am1 = AverageMeter()\n",
    "am1.reset()\n",
    "am1.update(12)\n",
    "print(am1)\n",
    "am1.update(20)\n",
    "print(am1)\n",
    "am1.update(1)\n",
    "print(am1)"
   ]
  },
  {
   "attachments": {},
   "cell_type": "markdown",
   "metadata": {},
   "source": [
    "## Face_Net"
   ]
  },
  {
   "cell_type": "code",
   "execution_count": 7,
   "metadata": {},
   "outputs": [],
   "source": [
    "#for face dataset\n",
    "DATASET_ROOT = \"datasets/data\"\n",
    "file_root = os.path.join(DATASET_ROOT, \"AFLW2000-3D/AFLW2000\")\n",
    "filename = \"image00010.txt\"\n",
    "file_path = os.path.join(file_root, filename)\n",
    "img_path = file_path[:-4] + \".jpg\""
   ]
  },
  {
   "cell_type": "code",
   "execution_count": 8,
   "metadata": {},
   "outputs": [
    {
     "data": {
      "text/plain": [
       "('datasets/data/AFLW2000-3D/AFLW2000/image00010.txt',\n",
       " 'datasets/data/AFLW2000-3D/AFLW2000/image00010.jpg')"
      ]
     },
     "execution_count": 8,
     "metadata": {},
     "output_type": "execute_result"
    }
   ],
   "source": [
    "file_path, img_path"
   ]
  },
  {
   "cell_type": "code",
   "execution_count": 24,
   "metadata": {},
   "outputs": [],
   "source": [
    "#手动读数据\n",
    "ori_img = io.imread(img_path)\n",
    "face_3ddata = np.loadtxt(file_path, delimiter=\",\")\n",
    "#torch.from_numpy()\n",
    "pts, normals = face_3ddata[:, :3], face_3ddata[:, 3:]"
   ]
  },
  {
   "cell_type": "code",
   "execution_count": 25,
   "metadata": {},
   "outputs": [
    {
     "name": "stdout",
     "output_type": "stream",
     "text": [
      "<class 'numpy.ndarray'> (450, 450, 3)\n"
     ]
    },
    {
     "data": {
      "image/png": "[encoded data removed]",
      "text/plain": [
       "<Figure size 432x288 with 1 Axes>"
      ]
     },
     "metadata": {
      "needs_background": "light"
     },
     "output_type": "display_data"
    }
   ],
   "source": [
    "# 2d可视化\n",
    "print(type(ori_img), ori_img.shape)\n",
    "plt.imshow(ori_img)\n",
    "plt.axis('off')\n",
    "plt.show()"
   ]
  },
  {
   "cell_type": "code",
   "execution_count": 15,
   "metadata": {},
   "outputs": [
    {
     "data": {
      "application/vnd.jupyter.widget-view+json": {
       "model_id": "bcb0346da35f404fa4152a67963ac32e",
       "version_major": 2,
       "version_minor": 0
      },
      "text/plain": [
       "Output()"
      ]
     },
     "metadata": {},
     "output_type": "display_data"
    }
   ],
   "source": [
    "# 3d可视化\n",
    "visualize_pointcloud(pts, .010)"
   ]
  },
  {
   "cell_type": "code",
   "execution_count": 26,
   "metadata": {},
   "outputs": [
    {
     "data": {
      "text/plain": [
       "(torch.Tensor, torch.Size([3, 224, 224]))"
      ]
     },
     "execution_count": 26,
     "metadata": {},
     "output_type": "execute_result"
    }
   ],
   "source": [
    "# img, pts, normals\n",
    "\n",
    "img = Image.fromarray(ori_img)\n",
    "data_transform = transforms.Compose([\n",
    "    transforms.Resize(size=(224,224)),\n",
    "    transforms.ToTensor(),\n",
    "    transforms.Normalize(mean=[0.485, 0.456, 0.406], std=[0.229, 0.224, 0.225])\n",
    "])\n",
    "img = data_transform(img)\n",
    "type(img), img.shape"
   ]
  },
  {
   "cell_type": "code",
   "execution_count": 28,
   "metadata": {},
   "outputs": [
    {
     "name": "stderr",
     "output_type": "stream",
     "text": [
      "Clipping input data to the valid range for imshow with RGB data ([0..1] for floats or [0..255] for integers).\n"
     ]
    },
    {
     "data": {
      "image/png": "[encoded data removed]",
      "text/plain": [
       "<Figure size 432x288 with 1 Axes>"
      ]
     },
     "metadata": {
      "needs_background": "light"
     },
     "output_type": "display_data"
    }
   ],
   "source": [
    "#前处理之后\n",
    "plt.imshow(img.transpose(0,2))\n",
    "plt.axis('off')\n",
    "plt.show()"
   ]
  },
  {
   "cell_type": "code",
   "execution_count": 29,
   "metadata": {},
   "outputs": [
    {
     "name": "stderr",
     "output_type": "stream",
     "text": [
      "Clipping input data to the valid range for imshow with RGB data ([0..1] for floats or [0..255] for integers).\n"
     ]
    },
    {
     "data": {
      "image/png": "[encoded data removed]",
      "text/plain": [
       "<Figure size 432x288 with 1 Axes>"
      ]
     },
     "metadata": {
      "needs_background": "light"
     },
     "output_type": "display_data"
    }
   ],
   "source": [
    "# from jpg to tensor\n",
    "img = Image.open(img_path)\n",
    "data_transform = transforms.Compose([\n",
    "    transforms.Resize(size=(224,224)),\n",
    "    transforms.ToTensor(),\n",
    "    transforms.Normalize(mean=[0.485, 0.456, 0.406], std=[0.229, 0.224, 0.225])\n",
    "])\n",
    "img = data_transform(img)\n",
    "plt.imshow(img.transpose(0,2))\n",
    "plt.axis('off')\n",
    "plt.show()\n",
    "\n"
   ]
  },
  {
   "attachments": {},
   "cell_type": "markdown",
   "metadata": {},
   "source": [
    "### Original Data"
   ]
  },
  {
   "cell_type": "code",
   "execution_count": 11,
   "metadata": {},
   "outputs": [],
   "source": [
    "DATASET_ROOT = \"datasets/data\"\n",
    "file_root = os.path.join(DATASET_ROOT, \"shapenet\")\n",
    "filename = \"04256520/1a201d0a99d841ca684b7bc3f8a9aa55/rendering/00.dat\"\n",
    "\n",
    "label = filename.split(\"/\", maxsplit=1)[0]#maxsplit=1 ,divide into two parts 04256520\n",
    "pkl_path = os.path.join(file_root, \"data_tf\", filename)"
   ]
  },
  {
   "cell_type": "code",
   "execution_count": 12,
   "metadata": {},
   "outputs": [
    {
     "data": {
      "text/plain": [
       "'datasets/data/shapenet/data_tf/04256520/1a201d0a99d841ca684b7bc3f8a9aa55/rendering/00.png'"
      ]
     },
     "execution_count": 12,
     "metadata": {},
     "output_type": "execute_result"
    }
   ],
   "source": [
    "img_path = pkl_path[:-4] + \".png\"\n",
    "img_path"
   ]
  },
  {
   "cell_type": "code",
   "execution_count": 13,
   "metadata": {},
   "outputs": [
    {
     "name": "stdout",
     "output_type": "stream",
     "text": [
      "[[ 6.8144500e-01 -3.5104179e-01  6.4218563e-01]\n",
      " [-6.3701171e-01 -3.6974090e-01  6.7639321e-01]\n",
      " [-6.8144500e-01  3.5104179e-01 -6.4218563e-01]\n",
      " ...\n",
      " [ 7.9931396e-01 -1.0619049e-01 -5.9145653e-01]\n",
      " [-6.4643774e-17 -8.7745941e-01 -4.7965094e-01]\n",
      " [-6.5893847e-01 -1.8402964e-02 -7.5197172e-01]]\n"
     ]
    },
    {
     "data": {
      "image/png": "[encoded data removed]",
      "text/plain": [
       "<Figure size 640x480 with 1 Axes>"
      ]
     },
     "metadata": {},
     "output_type": "display_data"
    }
   ],
   "source": [
    "with open(pkl_path) as f:\n",
    "        data = pickle.load(open(pkl_path, 'rb'), encoding=\"latin1\")#transfer to python files, 'latin1' is the encoder method to the binary file and python object\n",
    "pts, normals = data[:, :3], data[:, 3:]\n",
    "# print(data)\n",
    "# print(pts)\n",
    "# print(\"#############\")\n",
    "print(normals)\n",
    "img = io.imread(img_path)\n",
    "# else:\n",
    "#         img = transform.resize(img, (config.IMG_SIZE, config.IMG_SIZE))\n",
    "#         img = img[:, :, :3].astype(np.float32)\n",
    "plt.imshow(img)\n",
    "plt.axis('off')\n",
    "plt.show()"
   ]
  },
  {
   "cell_type": "code",
   "execution_count": 14,
   "metadata": {},
   "outputs": [
    {
     "name": "stdout",
     "output_type": "stream",
     "text": [
      "[[146 146 146  26]\n",
      " [150 150 150  24]\n",
      " [  0   0   0   3]\n",
      " ...\n",
      " [ 21  21  21  26]\n",
      " [ 29  29  29  93]\n",
      " [ 54  54  54  25]]\n"
     ]
    },
    {
     "data": {
      "image/png": "[encoded data removed]",
      "text/plain": [
       "<Figure size 640x480 with 1 Axes>"
      ]
     },
     "metadata": {},
     "output_type": "display_data"
    }
   ],
   "source": [
    "print(img[np.where(img[:, :, 3] != 0)])\n",
    "img[np.where(img[:, :, 3] == 0)] = 255\n",
    "img = transform.resize(img, (config.IMG_SIZE, config.IMG_SIZE),\n",
    "                                       mode='constant', anti_aliasing=False)  # to match behavior of old versions\n",
    "img = img[:, :, :3].astype(np.float32) #to numpy ndarry!! not a tensor\n",
    "# else:\n",
    "#         img = transform.resize(img, (config.IMG_SIZE, config.IMG_SIZE))\n",
    "#         img = img[:, :, :3].astype(np.float32)\n",
    "plt.imshow(img)\n",
    "plt.axis('off')\n",
    "plt.show()"
   ]
  },
  {
   "cell_type": "code",
   "execution_count": 15,
   "metadata": {},
   "outputs": [
    {
     "name": "stdout",
     "output_type": "stream",
     "text": [
      "{'02691156': 0, '02828884': 1, '02933112': 2, '02958343': 3, '03001627': 4, '03211117': 5, '03636649': 6, '03691459': 7, '04090263': 8, '04256520': 9, '04379243': 10, '04401088': 11, '04530566': 12}\n"
     ]
    },
    {
     "data": {
      "text/plain": [
       "9"
      ]
     },
     "execution_count": 15,
     "metadata": {},
     "output_type": "execute_result"
    }
   ],
   "source": [
    "with open(os.path.join(file_root, \"meta\", \"shapenet.json\"), \"r\") as fp:\n",
    "        labels_map = sorted(list(json.load(fp).keys()))\n",
    "labels_map = {k: i for i, k in enumerate(labels_map)}\n",
    "\n",
    "print(labels_map)\n",
    "labels_map[label]"
   ]
  },
  {
   "cell_type": "code",
   "execution_count": 16,
   "metadata": {},
   "outputs": [
    {
     "data": {
      "application/vnd.jupyter.widget-view+json": {
       "model_id": "7d5baaf9367a4b1dbcf9c4e867189661",
       "version_major": 2,
       "version_minor": 0
      },
      "text/plain": [
       "Output()"
      ]
     },
     "metadata": {},
     "output_type": "display_data"
    }
   ],
   "source": [
    "visualize_pointcloud(pts, .010)"
   ]
  },
  {
   "cell_type": "code",
   "execution_count": 17,
   "metadata": {},
   "outputs": [],
   "source": [
    "img = img[:, :, :3].astype(np.float32)\n",
    "img = torch.from_numpy(np.transpose(img, (2, 0, 1)))\n",
    "img_normalized =  Normalize(mean=config.IMG_NORM_MEAN, std=config.IMG_NORM_STD)(img)\n"
   ]
  },
  {
   "cell_type": "markdown",
   "metadata": {},
   "source": [
    "## Original Shapenet"
   ]
  },
  {
   "cell_type": "code",
   "execution_count": 18,
   "metadata": {},
   "outputs": [
    {
     "ename": "FileNotFoundError",
     "evalue": "[Errno 2] No such file or directory: 'datasets/data/shapenet/meta/yu_train_tf.txt'",
     "output_type": "error",
     "traceback": [
      "\u001b[0;31m---------------------------------------------------------------------------\u001b[0m",
      "\u001b[0;31mFileNotFoundError\u001b[0m                         Traceback (most recent call last)",
      "\u001b[0;32m/tmp/ipykernel_10665/261297082.py\u001b[0m in \u001b[0;36m<module>\u001b[0;34m\u001b[0m\n\u001b[1;32m      6\u001b[0m     \u001b[0mmesh_pos\u001b[0m\u001b[0;34m=\u001b[0m \u001b[0;34m[\u001b[0m\u001b[0;36m0.0\u001b[0m\u001b[0;34m,\u001b[0m \u001b[0;36m0.0\u001b[0m\u001b[0;34m,\u001b[0m \u001b[0;34m-\u001b[0m\u001b[0;36m0.8\u001b[0m\u001b[0;34m]\u001b[0m\u001b[0;34m,\u001b[0m\u001b[0;34m\u001b[0m\u001b[0;34m\u001b[0m\u001b[0m\n\u001b[1;32m      7\u001b[0m     \u001b[0mnormalization\u001b[0m \u001b[0;34m=\u001b[0m \u001b[0;32mTrue\u001b[0m\u001b[0;34m,\u001b[0m\u001b[0;34m\u001b[0m\u001b[0;34m\u001b[0m\u001b[0m\n\u001b[0;32m----> 8\u001b[0;31m     shapenet_options = test_shapenet_options)\n\u001b[0m",
      "\u001b[0;32m~/autodl-tmp/Pixel2Mesh/datasets/shapenet.py\u001b[0m in \u001b[0;36m__init__\u001b[0;34m(self, file_root, file_list_name, mesh_pos, normalization, shapenet_options)\u001b[0m\n\u001b[1;32m     31\u001b[0m         \u001b[0mself\u001b[0m\u001b[0;34m.\u001b[0m\u001b[0mlabels_map\u001b[0m \u001b[0;34m=\u001b[0m \u001b[0;34m{\u001b[0m\u001b[0mk\u001b[0m\u001b[0;34m:\u001b[0m \u001b[0mi\u001b[0m \u001b[0;32mfor\u001b[0m \u001b[0mi\u001b[0m\u001b[0;34m,\u001b[0m \u001b[0mk\u001b[0m \u001b[0;32min\u001b[0m \u001b[0menumerate\u001b[0m\u001b[0;34m(\u001b[0m\u001b[0mself\u001b[0m\u001b[0;34m.\u001b[0m\u001b[0mlabels_map\u001b[0m\u001b[0;34m)\u001b[0m\u001b[0;34m}\u001b[0m\u001b[0;31m#self.labels_map,i = 0 1 2 3 ...?\u001b[0m\u001b[0;34m\u001b[0m\u001b[0;34m\u001b[0m\u001b[0m\n\u001b[1;32m     32\u001b[0m         \u001b[0;31m# Read file list\u001b[0m\u001b[0;34m\u001b[0m\u001b[0;34m\u001b[0m\u001b[0;34m\u001b[0m\u001b[0m\n\u001b[0;32m---> 33\u001b[0;31m         \u001b[0;32mwith\u001b[0m \u001b[0mopen\u001b[0m\u001b[0;34m(\u001b[0m\u001b[0mos\u001b[0m\u001b[0;34m.\u001b[0m\u001b[0mpath\u001b[0m\u001b[0;34m.\u001b[0m\u001b[0mjoin\u001b[0m\u001b[0;34m(\u001b[0m\u001b[0mself\u001b[0m\u001b[0;34m.\u001b[0m\u001b[0mfile_root\u001b[0m\u001b[0;34m,\u001b[0m \u001b[0;34m\"meta\"\u001b[0m\u001b[0;34m,\u001b[0m \u001b[0mfile_list_name\u001b[0m \u001b[0;34m+\u001b[0m \u001b[0;34m\".txt\"\u001b[0m\u001b[0;34m)\u001b[0m\u001b[0;34m,\u001b[0m \u001b[0;34m\"r\"\u001b[0m\u001b[0;34m)\u001b[0m \u001b[0;32mas\u001b[0m \u001b[0mfp\u001b[0m\u001b[0;34m:\u001b[0m\u001b[0;34m\u001b[0m\u001b[0;34m\u001b[0m\u001b[0m\n\u001b[0m\u001b[1;32m     34\u001b[0m             \u001b[0mself\u001b[0m\u001b[0;34m.\u001b[0m\u001b[0mfile_names\u001b[0m \u001b[0;34m=\u001b[0m \u001b[0mfp\u001b[0m\u001b[0;34m.\u001b[0m\u001b[0mread\u001b[0m\u001b[0;34m(\u001b[0m\u001b[0;34m)\u001b[0m\u001b[0;34m.\u001b[0m\u001b[0msplit\u001b[0m\u001b[0;34m(\u001b[0m\u001b[0;34m\"\\n\"\u001b[0m\u001b[0;34m)\u001b[0m\u001b[0;34m[\u001b[0m\u001b[0;34m:\u001b[0m\u001b[0;34m-\u001b[0m\u001b[0;36m1\u001b[0m\u001b[0;34m]\u001b[0m \u001b[0;31m#divide by the space!!\u001b[0m\u001b[0;34m\u001b[0m\u001b[0;34m\u001b[0m\u001b[0m\n\u001b[1;32m     35\u001b[0m         \u001b[0mself\u001b[0m\u001b[0;34m.\u001b[0m\u001b[0mtensorflow\u001b[0m \u001b[0;34m=\u001b[0m \u001b[0;34m\"_tf\"\u001b[0m \u001b[0;32min\u001b[0m \u001b[0mfile_list_name\u001b[0m \u001b[0;31m# tensorflow version of data\u001b[0m\u001b[0;34m\u001b[0m\u001b[0;34m\u001b[0m\u001b[0m\n",
      "\u001b[0;31mFileNotFoundError\u001b[0m: [Errno 2] No such file or directory: 'datasets/data/shapenet/meta/yu_train_tf.txt'"
     ]
    }
   ],
   "source": [
    "import config\n",
    "from datasets.shapenet import *\n",
    "test_shapenet_options = edict({'num_points': 3000, 'resize_with_constant_border': False})\n",
    "yu_dataset = ShapeNet(file_root='datasets/data/shapenet',\n",
    "    file_list_name='yu_train_tf',\n",
    "    mesh_pos= [0.0, 0.0, -0.8],\n",
    "    normalization = True,\n",
    "    shapenet_options = test_shapenet_options)\n"
   ]
  },
  {
   "cell_type": "code",
   "execution_count": null,
   "metadata": {},
   "outputs": [
    {
     "name": "stdout",
     "output_type": "stream",
     "text": [
      "Length of train set: 15\n"
     ]
    },
    {
     "data": {
      "text/plain": [
       "{'images': tensor([[[2.2489, 2.2489, 2.2489,  ..., 2.2489, 2.2489, 2.2489],\n",
       "          [2.2489, 2.2489, 2.2489,  ..., 2.2489, 2.2489, 2.2489],\n",
       "          [2.2489, 2.2489, 2.2489,  ..., 2.2489, 2.2489, 2.2489],\n",
       "          ...,\n",
       "          [2.2489, 2.2489, 2.2489,  ..., 2.2489, 2.2489, 2.2489],\n",
       "          [2.2489, 2.2489, 2.2489,  ..., 2.2489, 2.2489, 2.2489],\n",
       "          [2.2489, 2.2489, 2.2489,  ..., 2.2489, 2.2489, 2.2489]],\n",
       " \n",
       "         [[2.4286, 2.4286, 2.4286,  ..., 2.4286, 2.4286, 2.4286],\n",
       "          [2.4286, 2.4286, 2.4286,  ..., 2.4286, 2.4286, 2.4286],\n",
       "          [2.4286, 2.4286, 2.4286,  ..., 2.4286, 2.4286, 2.4286],\n",
       "          ...,\n",
       "          [2.4286, 2.4286, 2.4286,  ..., 2.4286, 2.4286, 2.4286],\n",
       "          [2.4286, 2.4286, 2.4286,  ..., 2.4286, 2.4286, 2.4286],\n",
       "          [2.4286, 2.4286, 2.4286,  ..., 2.4286, 2.4286, 2.4286]],\n",
       " \n",
       "         [[2.6400, 2.6400, 2.6400,  ..., 2.6400, 2.6400, 2.6400],\n",
       "          [2.6400, 2.6400, 2.6400,  ..., 2.6400, 2.6400, 2.6400],\n",
       "          [2.6400, 2.6400, 2.6400,  ..., 2.6400, 2.6400, 2.6400],\n",
       "          ...,\n",
       "          [2.6400, 2.6400, 2.6400,  ..., 2.6400, 2.6400, 2.6400],\n",
       "          [2.6400, 2.6400, 2.6400,  ..., 2.6400, 2.6400, 2.6400],\n",
       "          [2.6400, 2.6400, 2.6400,  ..., 2.6400, 2.6400, 2.6400]]]),\n",
       " 'images_orig': tensor([[[1., 1., 1.,  ..., 1., 1., 1.],\n",
       "          [1., 1., 1.,  ..., 1., 1., 1.],\n",
       "          [1., 1., 1.,  ..., 1., 1., 1.],\n",
       "          ...,\n",
       "          [1., 1., 1.,  ..., 1., 1., 1.],\n",
       "          [1., 1., 1.,  ..., 1., 1., 1.],\n",
       "          [1., 1., 1.,  ..., 1., 1., 1.]],\n",
       " \n",
       "         [[1., 1., 1.,  ..., 1., 1., 1.],\n",
       "          [1., 1., 1.,  ..., 1., 1., 1.],\n",
       "          [1., 1., 1.,  ..., 1., 1., 1.],\n",
       "          ...,\n",
       "          [1., 1., 1.,  ..., 1., 1., 1.],\n",
       "          [1., 1., 1.,  ..., 1., 1., 1.],\n",
       "          [1., 1., 1.,  ..., 1., 1., 1.]],\n",
       " \n",
       "         [[1., 1., 1.,  ..., 1., 1., 1.],\n",
       "          [1., 1., 1.,  ..., 1., 1., 1.],\n",
       "          [1., 1., 1.,  ..., 1., 1., 1.],\n",
       "          ...,\n",
       "          [1., 1., 1.,  ..., 1., 1., 1.],\n",
       "          [1., 1., 1.,  ..., 1., 1., 1.],\n",
       "          [1., 1., 1.,  ..., 1., 1., 1.]]]),\n",
       " 'points': array([[-0.02961131, -0.09852889,  0.27321827],\n",
       "        [ 0.1477706 ,  0.02296962, -0.1123717 ],\n",
       "        [-0.00580984,  0.0839423 , -0.02801878],\n",
       "        ...,\n",
       "        [ 0.07617003,  0.10906252,  0.04183625],\n",
       "        [ 0.08264534,  0.08726862,  0.06435208],\n",
       "        [-0.03862432,  0.04036655,  0.06338333]], dtype=float32),\n",
       " 'normals': array([[-9.1427636e-01,  1.7432834e-01, -3.6566159e-01],\n",
       "        [ 9.1427636e-01, -1.7432834e-01,  3.6566159e-01],\n",
       "        [ 4.9560305e-17,  9.0266514e-01,  4.3034360e-01],\n",
       "        ...,\n",
       "        [ 4.0509105e-01,  3.9345297e-01, -8.2528543e-01],\n",
       "        [ 9.1052103e-01, -1.7793107e-01,  3.7321848e-01],\n",
       "        [ 4.9560305e-17,  9.0266514e-01,  4.3034360e-01]], dtype=float32),\n",
       " 'labels': 9,\n",
       " 'filename': '04256520/1a04dcce7027357ab540cc4083acfa57/rendering/02.dat',\n",
       " 'length': 8698}"
      ]
     },
     "metadata": {},
     "output_type": "display_data"
    }
   ],
   "source": [
    "# print(f'Length of train set: {len(yu_dataset)}')\n",
    "# yu_train_sample = yu_dataset[7]\n",
    "# yu_train_sample"
   ]
  },
  {
   "cell_type": "code",
   "execution_count": null,
   "metadata": {},
   "outputs": [
    {
     "data": {
      "text/plain": [
       "((8698, 3), torch.Size([3, 224, 224]), (8698, 3), torch.Size([3, 224, 224]))"
      ]
     },
     "metadata": {},
     "output_type": "display_data"
    }
   ],
   "source": [
    "# yu_train_sample['points'].shape,yu_train_sample['images'].shape,yu_train_sample['normals'].shape, yu_train_sample['images_orig'].shape"
   ]
  },
  {
   "attachments": {},
   "cell_type": "markdown",
   "metadata": {},
   "source": [
    "## Dataset & Dataloader"
   ]
  },
  {
   "cell_type": "code",
   "execution_count": 31,
   "metadata": {},
   "outputs": [],
   "source": [
    "from datasets.aflwnet import *"
   ]
  },
  {
   "cell_type": "code",
   "execution_count": 32,
   "metadata": {},
   "outputs": [],
   "source": [
    "test_shapenet_options = edict({'num_points': 3000, 'resize_with_constant_border': False})"
   ]
  },
  {
   "cell_type": "code",
   "execution_count": 33,
   "metadata": {},
   "outputs": [],
   "source": [
    "test_shapenet_options = edict({'num_points': 3000, 'resize_with_constant_border': False})\n",
    "yu_dataset = AFLW2000(file_root='datasets/data/AFLW2000-3D',\n",
    "    file_list_name='train_tf_overf',\n",
    "    mesh_pos= [0.0, 0.0, -0.8],\n",
    "    normalization = True,\n",
    "    shapenet_options = test_shapenet_options)"
   ]
  },
  {
   "cell_type": "code",
   "execution_count": 34,
   "metadata": {},
   "outputs": [
    {
     "name": "stdout",
     "output_type": "stream",
     "text": [
      "Length of train set: 16\n"
     ]
    },
    {
     "data": {
      "text/plain": [
       "{'images': tensor([[[-0.1495, -0.1735, -0.1926,  ...,  1.5899,  1.5723,  1.5577],\n",
       "          [-0.1495, -0.1735, -0.1926,  ...,  1.5899,  1.5740,  1.5875],\n",
       "          [-0.1495, -0.1735, -0.1926,  ...,  1.5899,  1.5744,  1.5953],\n",
       "          ...,\n",
       "          [-1.8953, -1.8953, -1.8953,  ...,  0.5785,  1.4400,  1.7367],\n",
       "          [-1.8953, -1.8958, -1.8967,  ...,  1.0131,  1.6467,  1.8130],\n",
       "          [-1.8953, -1.9035, -1.9198,  ...,  1.3174,  1.7218,  1.8040]],\n",
       " \n",
       "         [[-0.0234, -0.0479, -0.0675,  ...,  1.7549,  1.7369,  1.7219],\n",
       "          [-0.0234, -0.0479, -0.0675,  ...,  1.7549,  1.7386,  1.7524],\n",
       "          [-0.0234, -0.0479, -0.0675,  ...,  1.7549,  1.7391,  1.7604],\n",
       "          ...,\n",
       "          [-1.8081, -1.8081, -1.8081,  ...,  0.7208,  1.6016,  1.9050],\n",
       "          [-1.8081, -1.8086, -1.8095,  ...,  1.1651,  1.8129,  1.9829],\n",
       "          [-1.8081, -1.8166, -1.8332,  ...,  1.4763,  1.8897,  1.9737]],\n",
       " \n",
       "         [[ 0.1989,  0.1745,  0.1550,  ...,  1.9693,  1.9514,  1.9365],\n",
       "          [ 0.1989,  0.1745,  0.1550,  ...,  1.9693,  1.9531,  1.9668],\n",
       "          [ 0.1989,  0.1745,  0.1550,  ...,  1.9693,  1.9535,  1.9748],\n",
       "          ...,\n",
       "          [-1.5779, -1.5779, -1.5779,  ...,  0.9399,  1.8167,  2.1187],\n",
       "          [-1.5779, -1.5783, -1.5793,  ...,  1.3822,  2.0271,  2.1964],\n",
       "          [-1.5779, -1.5863, -1.6028,  ...,  1.6919,  2.1035,  2.1872]]]),\n",
       " 'images_orig': tensor([[[0.4508, 0.4453, 0.4409,  ..., 0.8491, 0.8451, 0.8417],\n",
       "          [0.4508, 0.4453, 0.4409,  ..., 0.8491, 0.8454, 0.8485],\n",
       "          [0.4508, 0.4453, 0.4409,  ..., 0.8491, 0.8455, 0.8503],\n",
       "          ...,\n",
       "          [0.0510, 0.0510, 0.0510,  ..., 0.6175, 0.8148, 0.8827],\n",
       "          [0.0510, 0.0509, 0.0507,  ..., 0.7170, 0.8621, 0.9002],\n",
       "          [0.0510, 0.0491, 0.0454,  ..., 0.7867, 0.8793, 0.8981]],\n",
       " \n",
       "         [[0.4508, 0.4453, 0.4409,  ..., 0.8491, 0.8451, 0.8417],\n",
       "          [0.4508, 0.4453, 0.4409,  ..., 0.8491, 0.8454, 0.8485],\n",
       "          [0.4508, 0.4453, 0.4409,  ..., 0.8491, 0.8455, 0.8503],\n",
       "          ...,\n",
       "          [0.0510, 0.0510, 0.0510,  ..., 0.6175, 0.8148, 0.8827],\n",
       "          [0.0510, 0.0509, 0.0507,  ..., 0.7170, 0.8621, 0.9002],\n",
       "          [0.0510, 0.0491, 0.0454,  ..., 0.7867, 0.8793, 0.8981]],\n",
       " \n",
       "         [[0.4508, 0.4453, 0.4409,  ..., 0.8491, 0.8451, 0.8417],\n",
       "          [0.4508, 0.4453, 0.4409,  ..., 0.8491, 0.8454, 0.8485],\n",
       "          [0.4508, 0.4453, 0.4409,  ..., 0.8491, 0.8455, 0.8503],\n",
       "          ...,\n",
       "          [0.0510, 0.0510, 0.0510,  ..., 0.6175, 0.8148, 0.8827],\n",
       "          [0.0510, 0.0509, 0.0507,  ..., 0.7170, 0.8621, 0.9002],\n",
       "          [0.0510, 0.0491, 0.0454,  ..., 0.7867, 0.8793, 0.8981]]]),\n",
       " 'points': array([[231.5  , 216.96 , -88.298],\n",
       "        [231.51 , 216.67 , -88.174],\n",
       "        [231.53 , 216.38 , -88.046],\n",
       "        ...,\n",
       "        [364.97 , 173.7  ,  35.238],\n",
       "        [365.68 , 174.09 ,  34.861],\n",
       "        [366.36 , 174.48 ,  34.473]]),\n",
       " 'normals': array([[-0.90768, -0.14159,  0.39505],\n",
       "        [-0.90411, -0.15422,  0.39851],\n",
       "        [-0.89452, -0.17411,  0.41173],\n",
       "        ...,\n",
       "        [ 0.96278, -0.11475, -0.24473],\n",
       "        [ 0.95811, -0.11795, -0.26098],\n",
       "        [ 0.95535, -0.11898, -0.27047]]),\n",
       " 'filename': 'image00077.jpg',\n",
       " 'length': 53215}"
      ]
     },
     "execution_count": 34,
     "metadata": {},
     "output_type": "execute_result"
    }
   ],
   "source": [
    "print(f'Length of train set: {len(yu_dataset)}')\n",
    "yu_train_sample = yu_dataset[7]\n",
    "yu_train_sample"
   ]
  },
  {
   "cell_type": "code",
   "execution_count": 35,
   "metadata": {},
   "outputs": [
    {
     "data": {
      "text/plain": [
       "((53215, 3), torch.Size([3, 224, 224]), (53215, 3), torch.Size([3, 224, 224]))"
      ]
     },
     "execution_count": 35,
     "metadata": {},
     "output_type": "execute_result"
    }
   ],
   "source": [
    "yu_train_sample['points'].shape,yu_train_sample['images'].shape,yu_train_sample['normals'].shape, yu_train_sample['images_orig'].shape"
   ]
  },
  {
   "cell_type": "code",
   "execution_count": 36,
   "metadata": {},
   "outputs": [
    {
     "data": {
      "application/vnd.jupyter.widget-view+json": {
       "model_id": "d20ebd9d66a94aa8981a045b7944ac0e",
       "version_major": 2,
       "version_minor": 0
      },
      "text/plain": [
       "Output()"
      ]
     },
     "metadata": {},
     "output_type": "display_data"
    }
   ],
   "source": [
    "\n",
    "visualize_pointcloud(yu_train_sample['points'], .010)"
   ]
  },
  {
   "cell_type": "code",
   "execution_count": 37,
   "metadata": {},
   "outputs": [
    {
     "data": {
      "text/plain": [
       "torch.Size([3, 224, 224])"
      ]
     },
     "execution_count": 37,
     "metadata": {},
     "output_type": "execute_result"
    }
   ],
   "source": [
    "type(yu_train_sample['images'])\n",
    "yu_train_sample['images'].shape"
   ]
  },
  {
   "cell_type": "code",
   "execution_count": 38,
   "metadata": {},
   "outputs": [
    {
     "name": "stderr",
     "output_type": "stream",
     "text": [
      "Clipping input data to the valid range for imshow with RGB data ([0..1] for floats or [0..255] for integers).\n"
     ]
    },
    {
     "data": {
      "image/png": "[encoded data removed]",
      "text/plain": [
       "<Figure size 432x288 with 1 Axes>"
      ]
     },
     "metadata": {
      "needs_background": "light"
     },
     "output_type": "display_data"
    }
   ],
   "source": [
    "plt.imshow(yu_train_sample['images'].numpy().transpose(1,2,0))\n",
    "plt.axis('off')\n",
    "plt.show()\n",
    "\n",
    "# 这里对tensor的图片显示有点问题"
   ]
  },
  {
   "cell_type": "code",
   "execution_count": 29,
   "metadata": {},
   "outputs": [
    {
     "data": {
      "text/plain": [
       "['image01854.jpg',\n",
       " 'image01331.jpg',\n",
       " 'image03939.jpg',\n",
       " 'image03738.jpg',\n",
       " 'image02277.jpg',\n",
       " 'image00889.jpg',\n",
       " 'image03551.jpg',\n",
       " 'image00077.jpg',\n",
       " 'image02688.jpg',\n",
       " 'image00907.jpg',\n",
       " 'image02985.jpg',\n",
       " 'image00908.jpg',\n",
       " 'image00080.jpg',\n",
       " 'image00055.jpg',\n",
       " 'image02373.jpg',\n",
       " 'image01317.jpg']"
      ]
     },
     "execution_count": 29,
     "metadata": {},
     "output_type": "execute_result"
    }
   ],
   "source": [
    "# yu_dataset.file_root\n",
    "yu_dataset.file_names"
   ]
  },
  {
   "cell_type": "code",
   "execution_count": 39,
   "metadata": {},
   "outputs": [],
   "source": [
    "def shapenet_collate(batch):\n",
    "    if len(batch) > 1:\n",
    "        all_equal = True\n",
    "        for t in batch:\n",
    "            if t[\"length\"] != batch[0][\"length\"]:\n",
    "                all_equal = False\n",
    "                break\n",
    "        points_orig, normals_orig = [], []\n",
    "        if not all_equal:\n",
    "            for t in batch:\n",
    "                pts, normal = t[\"points\"], t[\"normals\"]\n",
    "                length = pts.shape[0]\n",
    "                choices = np.resize(np.random.permutation(length), 3000)\n",
    "                t[\"points\"], t[\"normals\"] = pts[choices], normal[choices]\n",
    "                points_orig.append(torch.from_numpy(pts))\n",
    "                normals_orig.append(torch.from_numpy(normal))\n",
    "            ret = default_collate(batch)\n",
    "            ret[\"points_orig\"] = points_orig\n",
    "            ret[\"normals_orig\"] = normals_orig\n",
    "            return ret\n",
    "    ret = default_collate(batch)\n",
    "    ret[\"points_orig\"] = ret[\"points\"]\n",
    "    ret[\"normals_orig\"] = ret[\"normals\"]\n",
    "    return ret"
   ]
  },
  {
   "attachments": {},
   "cell_type": "markdown",
   "metadata": {},
   "source": [
    "## DataLoader"
   ]
  },
  {
   "cell_type": "code",
   "execution_count": 40,
   "metadata": {},
   "outputs": [],
   "source": [
    "train_data_loader = DataLoader(yu_dataset,batch_size=2, \n",
    "    num_workers=0, \n",
    "    pin_memory=False, \n",
    "    shuffle=True, \n",
    "    collate_fn= shapenet_collate\n",
    ")"
   ]
  },
  {
   "cell_type": "code",
   "execution_count": 41,
   "metadata": {},
   "outputs": [
    {
     "name": "stdout",
     "output_type": "stream",
     "text": [
      "images: \n",
      "torch.Size([2, 3, 224, 224])\n",
      "images_orig: \n",
      "torch.Size([2, 3, 224, 224])\n",
      "points: \n",
      "torch.Size([2, 53215, 3])\n",
      "normals: \n",
      "torch.Size([2, 53215, 3])\n",
      "filename: \n",
      "['image02688.jpg', 'image00907.jpg']\n",
      "length: \n",
      "torch.Size([2])\n",
      "points_orig: \n",
      "torch.Size([2, 53215, 3])\n",
      "normals_orig: \n",
      "torch.Size([2, 53215, 3])\n",
      "################################\n",
      "images: \n",
      "torch.Size([2, 3, 224, 224])\n",
      "images_orig: \n",
      "torch.Size([2, 3, 224, 224])\n",
      "points: \n",
      "torch.Size([2, 53215, 3])\n",
      "normals: \n",
      "torch.Size([2, 53215, 3])\n",
      "filename: \n",
      "['image01317.jpg', 'image02373.jpg']\n",
      "length: \n",
      "torch.Size([2])\n",
      "points_orig: \n",
      "torch.Size([2, 53215, 3])\n",
      "normals_orig: \n",
      "torch.Size([2, 53215, 3])\n",
      "################################\n"
     ]
    }
   ],
   "source": [
    "for i, batch in enumerate(train_data_loader):\n",
    "\n",
    "    for k, v in batch.items():\n",
    "        print(k + \": \")\n",
    "        if isinstance(v, torch.Tensor):\n",
    "            print(v.shape)\n",
    "        else:\n",
    "            print(v)\n",
    "    print('################################')\n",
    "\n",
    "    if i >=1:\n",
    "        break\n"
   ]
  },
  {
   "attachments": {},
   "cell_type": "markdown",
   "metadata": {},
   "source": [
    "## Model"
   ]
  },
  {
   "cell_type": "code",
   "execution_count": 10,
   "metadata": {},
   "outputs": [
    {
     "name": "stdout",
     "output_type": "stream",
     "text": [
      "    | Name                  | Type            | Params    \n",
      "----------------------------------------------------------------\n",
      "0   | nn_encoder            | VGG16P2M        | 12843632  \n",
      "1   | nn_encoder.conv0_1    | Conv2d          | 448       \n",
      "2   | nn_encoder.conv0_2    | Conv2d          | 2320      \n",
      "3   | nn_encoder.conv1_1    | Conv2d          | 4640      \n",
      "4   | nn_encoder.conv1_2    | Conv2d          | 9248      \n",
      "5   | nn_encoder.conv1_3    | Conv2d          | 9248      \n",
      "6   | nn_encoder.conv2_1    | Conv2d          | 18496     \n",
      "7   | nn_encoder.conv2_2    | Conv2d          | 36928     \n",
      "8   | nn_encoder.conv2_3    | Conv2d          | 36928     \n",
      "9   | nn_encoder.conv3_1    | Conv2d          | 73856     \n",
      "10  | nn_encoder.conv3_2    | Conv2d          | 147584    \n",
      "11  | nn_encoder.conv3_3    | Conv2d          | 147584    \n",
      "12  | nn_encoder.conv4_1    | Conv2d          | 819456    \n",
      "13  | nn_encoder.conv4_2    | Conv2d          | 590080    \n",
      "14  | nn_encoder.conv4_3    | Conv2d          | 590080    \n",
      "15  | nn_encoder.conv5_1    | Conv2d          | 3277312   \n",
      "16  | nn_encoder.conv5_2    | Conv2d          | 2359808   \n",
      "17  | nn_encoder.conv5_3    | Conv2d          | 2359808   \n",
      "18  | nn_encoder.conv5_4    | Conv2d          | 2359808   \n",
      "19  | nn_decoder            | VGG16Recons     | 1986403   \n",
      "20  | nn_decoder.conv_1     | ConvTranspose2d | 524544    \n",
      "21  | nn_decoder.conv_2     | ConvTranspose2d | 1048704   \n",
      "22  | nn_decoder.conv_3     | ConvTranspose2d | 262208    \n",
      "23  | nn_decoder.conv_4     | ConvTranspose2d | 147488    \n",
      "24  | nn_decoder.conv_5     | ConvTranspose2d | 3459      \n",
      "25  | gcns                  | ModuleList      | 1456672785\n",
      "26  | gcns.0                | GBottleneck     | 1598883   \n",
      "27  | gcns.0.blocks         | Sequential      | 1179072   \n",
      "28  | gcns.0.blocks.0       | GResBlock       | 196512    \n",
      "29  | gcns.0.blocks.0.conv1 | GConv           | 98256     \n",
      "30  | gcns.0.blocks.0.conv2 | GConv           | 98256     \n",
      "31  | gcns.0.blocks.1       | GResBlock       | 196512    \n",
      "32  | gcns.0.blocks.1.conv1 | GConv           | 98256     \n",
      "33  | gcns.0.blocks.1.conv2 | GConv           | 98256     \n",
      "34  | gcns.0.blocks.2       | GResBlock       | 196512    \n",
      "35  | gcns.0.blocks.2.conv1 | GConv           | 98256     \n",
      "36  | gcns.0.blocks.2.conv2 | GConv           | 98256     \n",
      "37  | gcns.0.blocks.3       | GResBlock       | 196512    \n",
      "38  | gcns.0.blocks.3.conv1 | GConv           | 98256     \n",
      "39  | gcns.0.blocks.3.conv2 | GConv           | 98256     \n",
      "40  | gcns.0.blocks.4       | GResBlock       | 196512    \n",
      "41  | gcns.0.blocks.4.conv1 | GConv           | 98256     \n",
      "42  | gcns.0.blocks.4.conv2 | GConv           | 98256     \n",
      "43  | gcns.0.blocks.5       | GResBlock       | 196512    \n",
      "44  | gcns.0.blocks.5.conv1 | GConv           | 98256     \n",
      "45  | gcns.0.blocks.5.conv2 | GConv           | 98256     \n",
      "46  | gcns.0.conv1          | GConv           | 394320    \n",
      "47  | gcns.0.conv2          | GConv           | 25491     \n",
      "48  | gcns.1                | GBottleneck     | 6678843   \n",
      "49  | gcns.1.blocks         | Sequential      | 5470128   \n",
      "50  | gcns.1.blocks.0       | GResBlock       | 911688    \n",
      "51  | gcns.1.blocks.0.conv1 | GConv           | 455844    \n",
      "52  | gcns.1.blocks.0.conv2 | GConv           | 455844    \n",
      "53  | gcns.1.blocks.1       | GResBlock       | 911688    \n",
      "54  | gcns.1.blocks.1.conv1 | GConv           | 455844    \n",
      "55  | gcns.1.blocks.1.conv2 | GConv           | 455844    \n",
      "56  | gcns.1.blocks.2       | GResBlock       | 911688    \n",
      "57  | gcns.1.blocks.2.conv1 | GConv           | 455844    \n",
      "58  | gcns.1.blocks.2.conv2 | GConv           | 455844    \n",
      "59  | gcns.1.blocks.3       | GResBlock       | 911688    \n",
      "60  | gcns.1.blocks.3.conv1 | GConv           | 455844    \n",
      "61  | gcns.1.blocks.3.conv2 | GConv           | 455844    \n",
      "62  | gcns.1.blocks.4       | GResBlock       | 911688    \n",
      "63  | gcns.1.blocks.4.conv1 | GConv           | 455844    \n",
      "64  | gcns.1.blocks.4.conv2 | GConv           | 455844    \n",
      "65  | gcns.1.blocks.5       | GResBlock       | 911688    \n",
      "66  | gcns.1.blocks.5.conv1 | GConv           | 455844    \n",
      "67  | gcns.1.blocks.5.conv2 | GConv           | 455844    \n",
      "68  | gcns.1.conv1          | GConv           | 825636    \n",
      "69  | gcns.1.conv2          | GConv           | 383079    \n",
      "70  | gcns.2                | GBottleneck     | 86468091  \n",
      "71  | gcns.2.blocks         | Sequential      | 73860912  \n",
      "72  | gcns.2.blocks.0       | GResBlock       | 12310152  \n",
      "73  | gcns.2.blocks.0.conv1 | GConv           | 6155076   \n",
      "74  | gcns.2.blocks.0.conv2 | GConv           | 6155076   \n",
      "75  | gcns.2.blocks.1       | GResBlock       | 12310152  \n",
      "76  | gcns.2.blocks.1.conv1 | GConv           | 6155076   \n",
      "77  | gcns.2.blocks.1.conv2 | GConv           | 6155076   \n",
      "78  | gcns.2.blocks.2       | GResBlock       | 12310152  \n",
      "79  | gcns.2.blocks.2.conv1 | GConv           | 6155076   \n",
      "80  | gcns.2.blocks.2.conv2 | GConv           | 6155076   \n",
      "81  | gcns.2.blocks.3       | GResBlock       | 12310152  \n",
      "82  | gcns.2.blocks.3.conv1 | GConv           | 6155076   \n",
      "83  | gcns.2.blocks.3.conv2 | GConv           | 6155076   \n",
      "84  | gcns.2.blocks.4       | GResBlock       | 12310152  \n",
      "85  | gcns.2.blocks.4.conv1 | GConv           | 6155076   \n",
      "86  | gcns.2.blocks.4.conv2 | GConv           | 6155076   \n",
      "87  | gcns.2.blocks.5       | GResBlock       | 12310152  \n",
      "88  | gcns.2.blocks.5.conv1 | GConv           | 6155076   \n",
      "89  | gcns.2.blocks.5.conv2 | GConv           | 6155076   \n",
      "90  | gcns.2.conv1          | GConv           | 6524868   \n",
      "91  | gcns.2.conv2          | GConv           | 6082311   \n",
      "92  | gcns.3                | GBottleneck     | 1361926968\n",
      "93  | gcns.3.blocks         | Sequential      | 1167049008\n",
      "94  | gcns.3.blocks.0       | GResBlock       | 194508168 \n",
      "95  | gcns.3.blocks.0.conv1 | GConv           | 97254084  \n",
      "96  | gcns.3.blocks.0.conv2 | GConv           | 97254084  \n",
      "97  | gcns.3.blocks.1       | GResBlock       | 194508168 \n",
      "98  | gcns.3.blocks.1.conv1 | GConv           | 97254084  \n",
      "99  | gcns.3.blocks.1.conv2 | GConv           | 97254084  \n",
      "100 | gcns.3.blocks.2       | GResBlock       | 194508168 \n",
      "101 | gcns.3.blocks.2.conv1 | GConv           | 97254084  \n",
      "102 | gcns.3.blocks.2.conv2 | GConv           | 97254084  \n",
      "103 | gcns.3.blocks.3       | GResBlock       | 194508168 \n",
      "104 | gcns.3.blocks.3.conv1 | GConv           | 97254084  \n",
      "105 | gcns.3.blocks.3.conv2 | GConv           | 97254084  \n",
      "106 | gcns.3.blocks.4       | GResBlock       | 194508168 \n",
      "107 | gcns.3.blocks.4.conv1 | GConv           | 97254084  \n",
      "108 | gcns.3.blocks.4.conv2 | GConv           | 97254084  \n",
      "109 | gcns.3.blocks.5       | GResBlock       | 194508168 \n",
      "110 | gcns.3.blocks.5.conv1 | GConv           | 97254084  \n",
      "111 | gcns.3.blocks.5.conv2 | GConv           | 97254084  \n",
      "112 | gcns.3.conv1          | GConv           | 97623876  \n",
      "113 | gcns.3.conv2          | GConv           | 97254084  \n",
      "114 | unpooling             | ModuleList      | 9702      \n",
      "115 | unpooling.0           | GUnpooling      | 462       \n",
      "116 | unpooling.1           | GUnpooling      | 1848      \n",
      "117 | unpooling.2           | GUnpooling      | 7392      \n",
      "118 | projection            | GProjection     | 0         \n",
      "119 | gconv                 | GConv           | 97181319  \n",
      "120 | TOTAL                 | P2MModel        | 1568694309\n"
     ]
    }
   ],
   "source": [
    "# define Model\n",
    "from models.p2m import P2MModel\n",
    "from utils.mesh import Ellipsoid\n",
    "from yu_train_test import summarize_model\n",
    "\n",
    "yu_ellipsoid = Ellipsoid(mesh_pos=[0.0, 0.0, -0.8])\n",
    "yu_model = P2MModel(options.model, yu_ellipsoid, camera_f=[248.0, 248.0], camera_c=[111.5, 111.5], mesh_pos=[0.0, 0.0, -0.8])\n",
    "print(summarize_model(yu_model))\n"
   ]
  },
  {
   "cell_type": "code",
   "execution_count": 62,
   "metadata": {},
   "outputs": [
    {
     "data": {
      "text/plain": [
       "dict_keys(['pred_coord', 'pred_coord_before_deform', 'reconst'])"
      ]
     },
     "execution_count": 62,
     "metadata": {},
     "output_type": "execute_result"
    }
   ],
   "source": [
    "input_tensor = torch.randn(1,3,224,224)\n",
    "predictions = yu_model(input_tensor)\n",
    "predictions.keys()\n",
    "\n",
    "## in p2m.py\n",
    "# return {\n",
    "#     \"pred_coord\": [x1, x2, x3],\n",
    "#     \"pred_coord_before_deform\": [init_pts, x1_up, x2_up],\n",
    "#     \"reconst\": reconst\n",
    "\n"
   ]
  },
  {
   "cell_type": "code",
   "execution_count": 65,
   "metadata": {},
   "outputs": [
    {
     "data": {
      "text/plain": [
       "torch.Size([1, 2466, 3])"
      ]
     },
     "execution_count": 65,
     "metadata": {},
     "output_type": "execute_result"
    }
   ],
   "source": [
    "predictions['pred_coord'][-1].shape"
   ]
  },
  {
   "cell_type": "code",
   "execution_count": 70,
   "metadata": {},
   "outputs": [],
   "source": [
    "# visualize_pointcloud(predictions['pred_coord'][-1].detach().numpy(), .0010)\n",
    "# 无意义，只是为了可视化看看"
   ]
  },
  {
   "attachments": {},
   "cell_type": "markdown",
   "metadata": {},
   "source": [
    "## Train Process"
   ]
  },
  {
   "attachments": {},
   "cell_type": "markdown",
   "metadata": {},
   "source": [
    "### Overfitting"
   ]
  },
  {
   "cell_type": "code",
   "execution_count": 43,
   "metadata": {},
   "outputs": [
    {
     "data": {
      "text/plain": [
       "<torch.utils.data.dataloader.DataLoader at 0x7f5f5c0588d0>"
      ]
     },
     "execution_count": 43,
     "metadata": {},
     "output_type": "execute_result"
    }
   ],
   "source": [
    "# yu_model, \n",
    "train_data_loader"
   ]
  },
  {
   "cell_type": "code",
   "execution_count": 45,
   "metadata": {},
   "outputs": [],
   "source": [
    "import yu_train_test\n",
    "from yu_train_test import yu_train"
   ]
  },
  {
   "cell_type": "code",
   "execution_count": 46,
   "metadata": {},
   "outputs": [
    {
     "ename": "RuntimeError",
     "evalue": "expected scalar type Float but found Double (data<float> at /root/miniconda3/envs/ml3d/lib/python3.7/site-packages/torch/include/ATen/core/TensorMethods.h:1386)\nframe #0: c10::Error::Error(c10::SourceLocation, std::string const&) + 0x45 (0x7f5f76133dc5 in /root/miniconda3/envs/ml3d/lib/python3.7/site-packages/torch/lib/libc10.so)\nframe #1: float* at::Tensor::data<float>() const + 0xcf (0x7f5f5fc8c0f5 in /root/miniconda3/envs/ml3d/lib/python3.7/site-packages/chamfer-0.0.0-py3.7-linux-x86_64.egg/chamfer.cpython-37m-x86_64-linux-gnu.so)\nframe #2: chamfer_cuda_forward(at::Tensor, at::Tensor, at::Tensor, at::Tensor, at::Tensor, at::Tensor) + 0x120 (0x7f5f5fc8af7f in /root/miniconda3/envs/ml3d/lib/python3.7/site-packages/chamfer-0.0.0-py3.7-linux-x86_64.egg/chamfer.cpython-37m-x86_64-linux-gnu.so)\nframe #3: chamfer_forward(at::Tensor, at::Tensor, at::Tensor, at::Tensor, at::Tensor, at::Tensor) + 0xc5 (0x7f5f5fc8d515 in /root/miniconda3/envs/ml3d/lib/python3.7/site-packages/chamfer-0.0.0-py3.7-linux-x86_64.egg/chamfer.cpython-37m-x86_64-linux-gnu.so)\nframe #4: <unknown function> + 0x11d50 (0x7f5f5fc91d50 in /root/miniconda3/envs/ml3d/lib/python3.7/site-packages/chamfer-0.0.0-py3.7-linux-x86_64.egg/chamfer.cpython-37m-x86_64-linux-gnu.so)\nframe #5: <unknown function> + 0x1680a (0x7f5f5fc9680a in /root/miniconda3/envs/ml3d/lib/python3.7/site-packages/chamfer-0.0.0-py3.7-linux-x86_64.egg/chamfer.cpython-37m-x86_64-linux-gnu.so)\nframe #6: _PyMethodDef_RawFastCallKeywords + 0x237 (0x4ba8f7 in /root/miniconda3/envs/ml3d/bin/python)\nframe #7: /root/miniconda3/envs/ml3d/bin/python() [0x4ba350]\nframe #8: _PyEval_EvalFrameDefault + 0x4652 (0x4b6cc2 in /root/miniconda3/envs/ml3d/bin/python)\nframe #9: _PyFunction_FastCallDict + 0x116 (0x4cba76 in /root/miniconda3/envs/ml3d/bin/python)\nframe #10: THPFunction_apply(_object*, _object*) + 0x691 (0x7f5fa53bf891 in /root/miniconda3/envs/ml3d/lib/python3.7/site-packages/torch/lib/libtorch_python.so)\nframe #11: _PyMethodDef_RawFastCallKeywords + 0x1fb (0x4ba8bb in /root/miniconda3/envs/ml3d/bin/python)\nframe #12: /root/miniconda3/envs/ml3d/bin/python() [0x4ba350]\nframe #13: _PyEval_EvalFrameDefault + 0x4652 (0x4b6cc2 in /root/miniconda3/envs/ml3d/bin/python)\nframe #14: _PyFunction_FastCallDict + 0x116 (0x4cba76 in /root/miniconda3/envs/ml3d/bin/python)\nframe #15: /root/miniconda3/envs/ml3d/bin/python() [0x4d4230]\nframe #16: PyObject_Call + 0x60 (0x4d1be0 in /root/miniconda3/envs/ml3d/bin/python)\nframe #17: _PyEval_EvalFrameDefault + 0x1ea5 (0x4b4515 in /root/miniconda3/envs/ml3d/bin/python)\nframe #18: _PyEval_EvalCodeWithName + 0x201 (0x4b1411 in /root/miniconda3/envs/ml3d/bin/python)\nframe #19: _PyFunction_FastCallDict + 0x2d7 (0x4cbc37 in /root/miniconda3/envs/ml3d/bin/python)\nframe #20: _PyObject_Call_Prepend + 0x6e (0x4d152e in /root/miniconda3/envs/ml3d/bin/python)\nframe #21: /root/miniconda3/envs/ml3d/bin/python() [0x57d647]\nframe #22: _PyObject_FastCallKeywords + 0x430 (0x4c2b60 in /root/miniconda3/envs/ml3d/bin/python)\nframe #23: /root/miniconda3/envs/ml3d/bin/python() [0x4ba379]\nframe #24: _PyEval_EvalFrameDefault + 0x4652 (0x4b6cc2 in /root/miniconda3/envs/ml3d/bin/python)\nframe #25: _PyFunction_FastCallDict + 0x116 (0x4cba76 in /root/miniconda3/envs/ml3d/bin/python)\nframe #26: /root/miniconda3/envs/ml3d/bin/python() [0x4d4230]\nframe #27: PyObject_Call + 0x60 (0x4d1be0 in /root/miniconda3/envs/ml3d/bin/python)\nframe #28: _PyEval_EvalFrameDefault + 0x1ea5 (0x4b4515 in /root/miniconda3/envs/ml3d/bin/python)\nframe #29: _PyEval_EvalCodeWithName + 0x201 (0x4b1411 in /root/miniconda3/envs/ml3d/bin/python)\nframe #30: _PyFunction_FastCallDict + 0x2d7 (0x4cbc37 in /root/miniconda3/envs/ml3d/bin/python)\nframe #31: _PyObject_Call_Prepend + 0x6e (0x4d152e in /root/miniconda3/envs/ml3d/bin/python)\nframe #32: /root/miniconda3/envs/ml3d/bin/python() [0x57d647]\nframe #33: _PyObject_FastCallKeywords + 0x430 (0x4c2b60 in /root/miniconda3/envs/ml3d/bin/python)\nframe #34: /root/miniconda3/envs/ml3d/bin/python() [0x4ba379]\nframe #35: _PyEval_EvalFrameDefault + 0x971 (0x4b2fe1 in /root/miniconda3/envs/ml3d/bin/python)\nframe #36: _PyEval_EvalCodeWithName + 0x201 (0x4b1411 in /root/miniconda3/envs/ml3d/bin/python)\nframe #37: _PyFunction_FastCallKeywords + 0x29c (0x4c50ec in /root/miniconda3/envs/ml3d/bin/python)\nframe #38: /root/miniconda3/envs/ml3d/bin/python() [0x4ba23f]\nframe #39: _PyEval_EvalFrameDefault + 0x971 (0x4b2fe1 in /root/miniconda3/envs/ml3d/bin/python)\nframe #40: _PyEval_EvalCodeWithName + 0x201 (0x4b1411 in /root/miniconda3/envs/ml3d/bin/python)\nframe #41: PyEval_EvalCodeEx + 0x39 (0x4b1209 in /root/miniconda3/envs/ml3d/bin/python)\nframe #42: PyEval_EvalCode + 0x1b (0x54f39b in /root/miniconda3/envs/ml3d/bin/python)\nframe #43: /root/miniconda3/envs/ml3d/bin/python() [0x553c61]\nframe #44: _PyMethodDef_RawFastCallKeywords + 0x6c (0x4ba72c in /root/miniconda3/envs/ml3d/bin/python)\nframe #45: /root/miniconda3/envs/ml3d/bin/python() [0x4ba350]\nframe #46: _PyEval_EvalFrameDefault + 0x971 (0x4b2fe1 in /root/miniconda3/envs/ml3d/bin/python)\nframe #47: /root/miniconda3/envs/ml3d/bin/python() [0x4d4b5b]\nframe #48: _PyEval_EvalFrameDefault + 0x1ace (0x4b413e in /root/miniconda3/envs/ml3d/bin/python)\nframe #49: /root/miniconda3/envs/ml3d/bin/python() [0x4d4b5b]\nframe #50: _PyEval_EvalFrameDefault + 0x1ace (0x4b413e in /root/miniconda3/envs/ml3d/bin/python)\nframe #51: /root/miniconda3/envs/ml3d/bin/python() [0x4d4b5b]\nframe #52: _PyMethodDescr_FastCallKeywords + 0x2dc (0x4c6dbc in /root/miniconda3/envs/ml3d/bin/python)\nframe #53: /root/miniconda3/envs/ml3d/bin/python() [0x4ba316]\nframe #54: _PyEval_EvalFrameDefault + 0xa9b (0x4b310b in /root/miniconda3/envs/ml3d/bin/python)\nframe #55: _PyFunction_FastCallKeywords + 0x106 (0x4c4f56 in /root/miniconda3/envs/ml3d/bin/python)\nframe #56: /root/miniconda3/envs/ml3d/bin/python() [0x4ba23f]\nframe #57: _PyEval_EvalFrameDefault + 0x971 (0x4b2fe1 in /root/miniconda3/envs/ml3d/bin/python)\nframe #58: _PyFunction_FastCallKeywords + 0x106 (0x4c4f56 in /root/miniconda3/envs/ml3d/bin/python)\nframe #59: /root/miniconda3/envs/ml3d/bin/python() [0x4ba23f]\nframe #60: _PyEval_EvalFrameDefault + 0xa9b (0x4b310b in /root/miniconda3/envs/ml3d/bin/python)\nframe #61: _PyEval_EvalCodeWithName + 0x201 (0x4b1411 in /root/miniconda3/envs/ml3d/bin/python)\nframe #62: _PyFunction_FastCallDict + 0x2d7 (0x4cbc37 in /root/miniconda3/envs/ml3d/bin/python)\nframe #63: /root/miniconda3/envs/ml3d/bin/python() [0x4d4230]\n",
     "output_type": "error",
     "traceback": [
      "\u001b[0;31m---------------------------------------------------------------------------\u001b[0m",
      "\u001b[0;31mRuntimeError\u001b[0m                              Traceback (most recent call last)",
      "\u001b[0;32m/tmp/ipykernel_78734/1311845520.py\u001b[0m in \u001b[0;36m<module>\u001b[0;34m\u001b[0m\n\u001b[1;32m      1\u001b[0m \u001b[0mdevice\u001b[0m \u001b[0;34m=\u001b[0m \u001b[0;34m'cuda'\u001b[0m\u001b[0;34m\u001b[0m\u001b[0;34m\u001b[0m\u001b[0m\n\u001b[0;32m----> 2\u001b[0;31m \u001b[0myu_train\u001b[0m\u001b[0;34m(\u001b[0m\u001b[0moptions\u001b[0m\u001b[0;34m,\u001b[0m \u001b[0myu_model\u001b[0m\u001b[0;34m,\u001b[0m \u001b[0myu_ellipsoid\u001b[0m\u001b[0;34m,\u001b[0m \u001b[0mdevice\u001b[0m\u001b[0;34m,\u001b[0m \u001b[0mtrain_data_loader\u001b[0m\u001b[0;34m)\u001b[0m\u001b[0;34m\u001b[0m\u001b[0;34m\u001b[0m\u001b[0m\n\u001b[0m\u001b[1;32m      3\u001b[0m \u001b[0;31m# AverageMeter类型后面的括号里面是当前平均值\u001b[0m\u001b[0;34m\u001b[0m\u001b[0;34m\u001b[0m\u001b[0;34m\u001b[0m\u001b[0m\n",
      "\u001b[0;32m~/autodl-tmp/Pixel2Mesh_original-pytorch/yu_train_test.py\u001b[0m in \u001b[0;36myu_train\u001b[0;34m(options, model, ellipsoid, device, trainloader)\u001b[0m\n\u001b[1;32m     90\u001b[0m             \u001b[0mout\u001b[0m \u001b[0;34m=\u001b[0m \u001b[0mmodel\u001b[0m\u001b[0;34m(\u001b[0m\u001b[0mimages\u001b[0m\u001b[0;34m)\u001b[0m\u001b[0;34m\u001b[0m\u001b[0;34m\u001b[0m\u001b[0m\n\u001b[1;32m     91\u001b[0m \u001b[0;34m\u001b[0m\u001b[0m\n\u001b[0;32m---> 92\u001b[0;31m             \u001b[0mloss\u001b[0m\u001b[0;34m,\u001b[0m \u001b[0mloss_summary\u001b[0m \u001b[0;34m=\u001b[0m \u001b[0mloss_criterion\u001b[0m\u001b[0;34m(\u001b[0m\u001b[0mout\u001b[0m\u001b[0;34m,\u001b[0m \u001b[0mbatch\u001b[0m\u001b[0;34m)\u001b[0m\u001b[0;34m\u001b[0m\u001b[0;34m\u001b[0m\u001b[0m\n\u001b[0m\u001b[1;32m     93\u001b[0m \u001b[0;34m\u001b[0m\u001b[0m\n\u001b[1;32m     94\u001b[0m             \u001b[0;31m# print(\"loss\")\u001b[0m\u001b[0;34m\u001b[0m\u001b[0;34m\u001b[0m\u001b[0;34m\u001b[0m\u001b[0m\n",
      "\u001b[0;32m~/miniconda3/envs/ml3d/lib/python3.7/site-packages/torch/nn/modules/module.py\u001b[0m in \u001b[0;36m__call__\u001b[0;34m(self, *input, **kwargs)\u001b[0m\n\u001b[1;32m    491\u001b[0m             \u001b[0mresult\u001b[0m \u001b[0;34m=\u001b[0m \u001b[0mself\u001b[0m\u001b[0;34m.\u001b[0m\u001b[0m_slow_forward\u001b[0m\u001b[0;34m(\u001b[0m\u001b[0;34m*\u001b[0m\u001b[0minput\u001b[0m\u001b[0;34m,\u001b[0m \u001b[0;34m**\u001b[0m\u001b[0mkwargs\u001b[0m\u001b[0;34m)\u001b[0m\u001b[0;34m\u001b[0m\u001b[0;34m\u001b[0m\u001b[0m\n\u001b[1;32m    492\u001b[0m         \u001b[0;32melse\u001b[0m\u001b[0;34m:\u001b[0m\u001b[0;34m\u001b[0m\u001b[0;34m\u001b[0m\u001b[0m\n\u001b[0;32m--> 493\u001b[0;31m             \u001b[0mresult\u001b[0m \u001b[0;34m=\u001b[0m \u001b[0mself\u001b[0m\u001b[0;34m.\u001b[0m\u001b[0mforward\u001b[0m\u001b[0;34m(\u001b[0m\u001b[0;34m*\u001b[0m\u001b[0minput\u001b[0m\u001b[0;34m,\u001b[0m \u001b[0;34m**\u001b[0m\u001b[0mkwargs\u001b[0m\u001b[0;34m)\u001b[0m\u001b[0;34m\u001b[0m\u001b[0;34m\u001b[0m\u001b[0m\n\u001b[0m\u001b[1;32m    494\u001b[0m         \u001b[0;32mfor\u001b[0m \u001b[0mhook\u001b[0m \u001b[0;32min\u001b[0m \u001b[0mself\u001b[0m\u001b[0;34m.\u001b[0m\u001b[0m_forward_hooks\u001b[0m\u001b[0;34m.\u001b[0m\u001b[0mvalues\u001b[0m\u001b[0;34m(\u001b[0m\u001b[0;34m)\u001b[0m\u001b[0;34m:\u001b[0m\u001b[0;34m\u001b[0m\u001b[0;34m\u001b[0m\u001b[0m\n\u001b[1;32m    495\u001b[0m             \u001b[0mhook_result\u001b[0m \u001b[0;34m=\u001b[0m \u001b[0mhook\u001b[0m\u001b[0;34m(\u001b[0m\u001b[0mself\u001b[0m\u001b[0;34m,\u001b[0m \u001b[0minput\u001b[0m\u001b[0;34m,\u001b[0m \u001b[0mresult\u001b[0m\u001b[0;34m)\u001b[0m\u001b[0;34m\u001b[0m\u001b[0;34m\u001b[0m\u001b[0m\n",
      "\u001b[0;32m~/autodl-tmp/Pixel2Mesh_original-pytorch/models/losses/p2m.py\u001b[0m in \u001b[0;36mforward\u001b[0;34m(self, outputs, targets)\u001b[0m\n\u001b[1;32m    100\u001b[0m \u001b[0;34m\u001b[0m\u001b[0m\n\u001b[1;32m    101\u001b[0m         \u001b[0;32mfor\u001b[0m \u001b[0mi\u001b[0m \u001b[0;32min\u001b[0m \u001b[0mrange\u001b[0m\u001b[0;34m(\u001b[0m\u001b[0;36m3\u001b[0m\u001b[0;34m)\u001b[0m\u001b[0;34m:\u001b[0m\u001b[0;31m#3 is for 3 times deformation\u001b[0m\u001b[0;34m\u001b[0m\u001b[0;34m\u001b[0m\u001b[0m\n\u001b[0;32m--> 102\u001b[0;31m             \u001b[0mdist1\u001b[0m\u001b[0;34m,\u001b[0m \u001b[0mdist2\u001b[0m\u001b[0;34m,\u001b[0m \u001b[0midx1\u001b[0m\u001b[0;34m,\u001b[0m \u001b[0midx2\u001b[0m \u001b[0;34m=\u001b[0m \u001b[0mself\u001b[0m\u001b[0;34m.\u001b[0m\u001b[0mchamfer_dist\u001b[0m\u001b[0;34m(\u001b[0m\u001b[0mgt_coord\u001b[0m\u001b[0;34m,\u001b[0m \u001b[0mpred_coord\u001b[0m\u001b[0;34m[\u001b[0m\u001b[0mi\u001b[0m\u001b[0;34m]\u001b[0m\u001b[0;34m)\u001b[0m\u001b[0;34m\u001b[0m\u001b[0;34m\u001b[0m\u001b[0m\n\u001b[0m\u001b[1;32m    103\u001b[0m             \u001b[0;31m# print('idx2.shape',idx2.shape)\u001b[0m\u001b[0;34m\u001b[0m\u001b[0;34m\u001b[0m\u001b[0;34m\u001b[0m\u001b[0m\n\u001b[1;32m    104\u001b[0m             \u001b[0;31m# print('#####################')\u001b[0m\u001b[0;34m\u001b[0m\u001b[0;34m\u001b[0m\u001b[0;34m\u001b[0m\u001b[0m\n",
      "\u001b[0;32m~/miniconda3/envs/ml3d/lib/python3.7/site-packages/torch/nn/modules/module.py\u001b[0m in \u001b[0;36m__call__\u001b[0;34m(self, *input, **kwargs)\u001b[0m\n\u001b[1;32m    491\u001b[0m             \u001b[0mresult\u001b[0m \u001b[0;34m=\u001b[0m \u001b[0mself\u001b[0m\u001b[0;34m.\u001b[0m\u001b[0m_slow_forward\u001b[0m\u001b[0;34m(\u001b[0m\u001b[0;34m*\u001b[0m\u001b[0minput\u001b[0m\u001b[0;34m,\u001b[0m \u001b[0;34m**\u001b[0m\u001b[0mkwargs\u001b[0m\u001b[0;34m)\u001b[0m\u001b[0;34m\u001b[0m\u001b[0;34m\u001b[0m\u001b[0m\n\u001b[1;32m    492\u001b[0m         \u001b[0;32melse\u001b[0m\u001b[0;34m:\u001b[0m\u001b[0;34m\u001b[0m\u001b[0;34m\u001b[0m\u001b[0m\n\u001b[0;32m--> 493\u001b[0;31m             \u001b[0mresult\u001b[0m \u001b[0;34m=\u001b[0m \u001b[0mself\u001b[0m\u001b[0;34m.\u001b[0m\u001b[0mforward\u001b[0m\u001b[0;34m(\u001b[0m\u001b[0;34m*\u001b[0m\u001b[0minput\u001b[0m\u001b[0;34m,\u001b[0m \u001b[0;34m**\u001b[0m\u001b[0mkwargs\u001b[0m\u001b[0;34m)\u001b[0m\u001b[0;34m\u001b[0m\u001b[0;34m\u001b[0m\u001b[0m\n\u001b[0m\u001b[1;32m    494\u001b[0m         \u001b[0;32mfor\u001b[0m \u001b[0mhook\u001b[0m \u001b[0;32min\u001b[0m \u001b[0mself\u001b[0m\u001b[0;34m.\u001b[0m\u001b[0m_forward_hooks\u001b[0m\u001b[0;34m.\u001b[0m\u001b[0mvalues\u001b[0m\u001b[0;34m(\u001b[0m\u001b[0;34m)\u001b[0m\u001b[0;34m:\u001b[0m\u001b[0;34m\u001b[0m\u001b[0;34m\u001b[0m\u001b[0m\n\u001b[1;32m    495\u001b[0m             \u001b[0mhook_result\u001b[0m \u001b[0;34m=\u001b[0m \u001b[0mhook\u001b[0m\u001b[0;34m(\u001b[0m\u001b[0mself\u001b[0m\u001b[0;34m,\u001b[0m \u001b[0minput\u001b[0m\u001b[0;34m,\u001b[0m \u001b[0mresult\u001b[0m\u001b[0;34m)\u001b[0m\u001b[0;34m\u001b[0m\u001b[0;34m\u001b[0m\u001b[0m\n",
      "\u001b[0;32m~/autodl-tmp/Pixel2Mesh_original-pytorch/models/layers/chamfer_wrapper.py\u001b[0m in \u001b[0;36mforward\u001b[0;34m(self, input1, input2)\u001b[0m\n\u001b[1;32m     48\u001b[0m \u001b[0;34m\u001b[0m\u001b[0m\n\u001b[1;32m     49\u001b[0m     \u001b[0;32mdef\u001b[0m \u001b[0mforward\u001b[0m\u001b[0;34m(\u001b[0m\u001b[0mself\u001b[0m\u001b[0;34m,\u001b[0m \u001b[0minput1\u001b[0m\u001b[0;34m,\u001b[0m \u001b[0minput2\u001b[0m\u001b[0;34m)\u001b[0m\u001b[0;34m:\u001b[0m\u001b[0;34m\u001b[0m\u001b[0;34m\u001b[0m\u001b[0m\n\u001b[0;32m---> 50\u001b[0;31m         \u001b[0;32mreturn\u001b[0m \u001b[0mChamferFunction\u001b[0m\u001b[0;34m.\u001b[0m\u001b[0mapply\u001b[0m\u001b[0;34m(\u001b[0m\u001b[0minput1\u001b[0m\u001b[0;34m,\u001b[0m \u001b[0minput2\u001b[0m\u001b[0;34m)\u001b[0m\u001b[0;34m\u001b[0m\u001b[0;34m\u001b[0m\u001b[0m\n\u001b[0m",
      "\u001b[0;32m~/autodl-tmp/Pixel2Mesh_original-pytorch/models/layers/chamfer_wrapper.py\u001b[0m in \u001b[0;36mforward\u001b[0;34m(ctx, xyz1, xyz2)\u001b[0m\n\u001b[1;32m     24\u001b[0m         \u001b[0midx2\u001b[0m \u001b[0;34m=\u001b[0m \u001b[0midx2\u001b[0m\u001b[0;34m.\u001b[0m\u001b[0mcuda\u001b[0m\u001b[0;34m(\u001b[0m\u001b[0;34m)\u001b[0m\u001b[0;34m\u001b[0m\u001b[0;34m\u001b[0m\u001b[0m\n\u001b[1;32m     25\u001b[0m \u001b[0;34m\u001b[0m\u001b[0m\n\u001b[0;32m---> 26\u001b[0;31m         \u001b[0mchamfer\u001b[0m\u001b[0;34m.\u001b[0m\u001b[0mforward\u001b[0m\u001b[0;34m(\u001b[0m\u001b[0mxyz1\u001b[0m\u001b[0;34m,\u001b[0m \u001b[0mxyz2\u001b[0m\u001b[0;34m,\u001b[0m \u001b[0mdist1\u001b[0m\u001b[0;34m,\u001b[0m \u001b[0mdist2\u001b[0m\u001b[0;34m,\u001b[0m \u001b[0midx1\u001b[0m\u001b[0;34m,\u001b[0m \u001b[0midx2\u001b[0m\u001b[0;34m)\u001b[0m\u001b[0;34m\u001b[0m\u001b[0;34m\u001b[0m\u001b[0m\n\u001b[0m\u001b[1;32m     27\u001b[0m         \u001b[0mctx\u001b[0m\u001b[0;34m.\u001b[0m\u001b[0msave_for_backward\u001b[0m\u001b[0;34m(\u001b[0m\u001b[0mxyz1\u001b[0m\u001b[0;34m,\u001b[0m \u001b[0mxyz2\u001b[0m\u001b[0;34m,\u001b[0m \u001b[0midx1\u001b[0m\u001b[0;34m,\u001b[0m \u001b[0midx2\u001b[0m\u001b[0;34m)\u001b[0m\u001b[0;34m\u001b[0m\u001b[0;34m\u001b[0m\u001b[0m\n\u001b[1;32m     28\u001b[0m         \u001b[0;32mreturn\u001b[0m \u001b[0mdist1\u001b[0m\u001b[0;34m,\u001b[0m \u001b[0mdist2\u001b[0m\u001b[0;34m,\u001b[0m \u001b[0midx1\u001b[0m\u001b[0;34m,\u001b[0m \u001b[0midx2\u001b[0m\u001b[0;34m\u001b[0m\u001b[0;34m\u001b[0m\u001b[0m\n",
      "\u001b[0;31mRuntimeError\u001b[0m: expected scalar type Float but found Double (data<float> at /root/miniconda3/envs/ml3d/lib/python3.7/site-packages/torch/include/ATen/core/TensorMethods.h:1386)\nframe #0: c10::Error::Error(c10::SourceLocation, std::string const&) + 0x45 (0x7f5f76133dc5 in /root/miniconda3/envs/ml3d/lib/python3.7/site-packages/torch/lib/libc10.so)\nframe #1: float* at::Tensor::data<float>() const + 0xcf (0x7f5f5fc8c0f5 in /root/miniconda3/envs/ml3d/lib/python3.7/site-packages/chamfer-0.0.0-py3.7-linux-x86_64.egg/chamfer.cpython-37m-x86_64-linux-gnu.so)\nframe #2: chamfer_cuda_forward(at::Tensor, at::Tensor, at::Tensor, at::Tensor, at::Tensor, at::Tensor) + 0x120 (0x7f5f5fc8af7f in /root/miniconda3/envs/ml3d/lib/python3.7/site-packages/chamfer-0.0.0-py3.7-linux-x86_64.egg/chamfer.cpython-37m-x86_64-linux-gnu.so)\nframe #3: chamfer_forward(at::Tensor, at::Tensor, at::Tensor, at::Tensor, at::Tensor, at::Tensor) + 0xc5 (0x7f5f5fc8d515 in /root/miniconda3/envs/ml3d/lib/python3.7/site-packages/chamfer-0.0.0-py3.7-linux-x86_64.egg/chamfer.cpython-37m-x86_64-linux-gnu.so)\nframe #4: <unknown function> + 0x11d50 (0x7f5f5fc91d50 in /root/miniconda3/envs/ml3d/lib/python3.7/site-packages/chamfer-0.0.0-py3.7-linux-x86_64.egg/chamfer.cpython-37m-x86_64-linux-gnu.so)\nframe #5: <unknown function> + 0x1680a (0x7f5f5fc9680a in /root/miniconda3/envs/ml3d/lib/python3.7/site-packages/chamfer-0.0.0-py3.7-linux-x86_64.egg/chamfer.cpython-37m-x86_64-linux-gnu.so)\nframe #6: _PyMethodDef_RawFastCallKeywords + 0x237 (0x4ba8f7 in /root/miniconda3/envs/ml3d/bin/python)\nframe #7: /root/miniconda3/envs/ml3d/bin/python() [0x4ba350]\nframe #8: _PyEval_EvalFrameDefault + 0x4652 (0x4b6cc2 in /root/miniconda3/envs/ml3d/bin/python)\nframe #9: _PyFunction_FastCallDict + 0x116 (0x4cba76 in /root/miniconda3/envs/ml3d/bin/python)\nframe #10: THPFunction_apply(_object*, _object*) + 0x691 (0x7f5fa53bf891 in /root/miniconda3/envs/ml3d/lib/python3.7/site-packages/torch/lib/libtorch_python.so)\nframe #11: _PyMethodDef_RawFastCallKeywords + 0x1fb (0x4ba8bb in /root/miniconda3/envs/ml3d/bin/python)\nframe #12: /root/miniconda3/envs/ml3d/bin/python() [0x4ba350]\nframe #13: _PyEval_EvalFrameDefault + 0x4652 (0x4b6cc2 in /root/miniconda3/envs/ml3d/bin/python)\nframe #14: _PyFunction_FastCallDict + 0x116 (0x4cba76 in /root/miniconda3/envs/ml3d/bin/python)\nframe #15: /root/miniconda3/envs/ml3d/bin/python() [0x4d4230]\nframe #16: PyObject_Call + 0x60 (0x4d1be0 in /root/miniconda3/envs/ml3d/bin/python)\nframe #17: _PyEval_EvalFrameDefault + 0x1ea5 (0x4b4515 in /root/miniconda3/envs/ml3d/bin/python)\nframe #18: _PyEval_EvalCodeWithName + 0x201 (0x4b1411 in /root/miniconda3/envs/ml3d/bin/python)\nframe #19: _PyFunction_FastCallDict + 0x2d7 (0x4cbc37 in /root/miniconda3/envs/ml3d/bin/python)\nframe #20: _PyObject_Call_Prepend + 0x6e (0x4d152e in /root/miniconda3/envs/ml3d/bin/python)\nframe #21: /root/miniconda3/envs/ml3d/bin/python() [0x57d647]\nframe #22: _PyObject_FastCallKeywords + 0x430 (0x4c2b60 in /root/miniconda3/envs/ml3d/bin/python)\nframe #23: /root/miniconda3/envs/ml3d/bin/python() [0x4ba379]\nframe #24: _PyEval_EvalFrameDefault + 0x4652 (0x4b6cc2 in /root/miniconda3/envs/ml3d/bin/python)\nframe #25: _PyFunction_FastCallDict + 0x116 (0x4cba76 in /root/miniconda3/envs/ml3d/bin/python)\nframe #26: /root/miniconda3/envs/ml3d/bin/python() [0x4d4230]\nframe #27: PyObject_Call + 0x60 (0x4d1be0 in /root/miniconda3/envs/ml3d/bin/python)\nframe #28: _PyEval_EvalFrameDefault + 0x1ea5 (0x4b4515 in /root/miniconda3/envs/ml3d/bin/python)\nframe #29: _PyEval_EvalCodeWithName + 0x201 (0x4b1411 in /root/miniconda3/envs/ml3d/bin/python)\nframe #30: _PyFunction_FastCallDict + 0x2d7 (0x4cbc37 in /root/miniconda3/envs/ml3d/bin/python)\nframe #31: _PyObject_Call_Prepend + 0x6e (0x4d152e in /root/miniconda3/envs/ml3d/bin/python)\nframe #32: /root/miniconda3/envs/ml3d/bin/python() [0x57d647]\nframe #33: _PyObject_FastCallKeywords + 0x430 (0x4c2b60 in /root/miniconda3/envs/ml3d/bin/python)\nframe #34: /root/miniconda3/envs/ml3d/bin/python() [0x4ba379]\nframe #35: _PyEval_EvalFrameDefault + 0x971 (0x4b2fe1 in /root/miniconda3/envs/ml3d/bin/python)\nframe #36: _PyEval_EvalCodeWithName + 0x201 (0x4b1411 in /root/miniconda3/envs/ml3d/bin/python)\nframe #37: _PyFunction_FastCallKeywords + 0x29c (0x4c50ec in /root/miniconda3/envs/ml3d/bin/python)\nframe #38: /root/miniconda3/envs/ml3d/bin/python() [0x4ba23f]\nframe #39: _PyEval_EvalFrameDefault + 0x971 (0x4b2fe1 in /root/miniconda3/envs/ml3d/bin/python)\nframe #40: _PyEval_EvalCodeWithName + 0x201 (0x4b1411 in /root/miniconda3/envs/ml3d/bin/python)\nframe #41: PyEval_EvalCodeEx + 0x39 (0x4b1209 in /root/miniconda3/envs/ml3d/bin/python)\nframe #42: PyEval_EvalCode + 0x1b (0x54f39b in /root/miniconda3/envs/ml3d/bin/python)\nframe #43: /root/miniconda3/envs/ml3d/bin/python() [0x553c61]\nframe #44: _PyMethodDef_RawFastCallKeywords + 0x6c (0x4ba72c in /root/miniconda3/envs/ml3d/bin/python)\nframe #45: /root/miniconda3/envs/ml3d/bin/python() [0x4ba350]\nframe #46: _PyEval_EvalFrameDefault + 0x971 (0x4b2fe1 in /root/miniconda3/envs/ml3d/bin/python)\nframe #47: /root/miniconda3/envs/ml3d/bin/python() [0x4d4b5b]\nframe #48: _PyEval_EvalFrameDefault + 0x1ace (0x4b413e in /root/miniconda3/envs/ml3d/bin/python)\nframe #49: /root/miniconda3/envs/ml3d/bin/python() [0x4d4b5b]\nframe #50: _PyEval_EvalFrameDefault + 0x1ace (0x4b413e in /root/miniconda3/envs/ml3d/bin/python)\nframe #51: /root/miniconda3/envs/ml3d/bin/python() [0x4d4b5b]\nframe #52: _PyMethodDescr_FastCallKeywords + 0x2dc (0x4c6dbc in /root/miniconda3/envs/ml3d/bin/python)\nframe #53: /root/miniconda3/envs/ml3d/bin/python() [0x4ba316]\nframe #54: _PyEval_EvalFrameDefault + 0xa9b (0x4b310b in /root/miniconda3/envs/ml3d/bin/python)\nframe #55: _PyFunction_FastCallKeywords + 0x106 (0x4c4f56 in /root/miniconda3/envs/ml3d/bin/python)\nframe #56: /root/miniconda3/envs/ml3d/bin/python() [0x4ba23f]\nframe #57: _PyEval_EvalFrameDefault + 0x971 (0x4b2fe1 in /root/miniconda3/envs/ml3d/bin/python)\nframe #58: _PyFunction_FastCallKeywords + 0x106 (0x4c4f56 in /root/miniconda3/envs/ml3d/bin/python)\nframe #59: /root/miniconda3/envs/ml3d/bin/python() [0x4ba23f]\nframe #60: _PyEval_EvalFrameDefault + 0xa9b (0x4b310b in /root/miniconda3/envs/ml3d/bin/python)\nframe #61: _PyEval_EvalCodeWithName + 0x201 (0x4b1411 in /root/miniconda3/envs/ml3d/bin/python)\nframe #62: _PyFunction_FastCallDict + 0x2d7 (0x4cbc37 in /root/miniconda3/envs/ml3d/bin/python)\nframe #63: /root/miniconda3/envs/ml3d/bin/python() [0x4d4230]\n"
     ]
    }
   ],
   "source": [
    "device = 'cuda'\n",
    "yu_train(options, yu_model, yu_ellipsoid, device, train_data_loader)\n",
    "# AverageMeter类型后面的括号里面是当前平均值"
   ]
  },
  {
   "cell_type": "code",
   "execution_count": 38,
   "metadata": {},
   "outputs": [
    {
     "data": {
      "application/vnd.jupyter.widget-view+json": {
       "model_id": "8a672c8ca40543618603832e50864baa",
       "version_major": 2,
       "version_minor": 0
      },
      "text/plain": [
       "Output()"
      ]
     },
     "metadata": {},
     "output_type": "display_data"
    }
   ],
   "source": [
    "yu_train_sample = yu_dataset[1]\n",
    "# yu_train_sample['images'].shape\n",
    "test_image = torch.unsqueeze(yu_train_sample['images'],0)\n",
    "yu_model.eval()\n",
    "yu_model.to('cpu')\n",
    "test_predictions = yu_model(test_image)\n",
    "visualize_pointcloud(test_predictions['pred_coord'][-1].detach().numpy(), .010)"
   ]
  },
  {
   "cell_type": "code",
   "execution_count": 39,
   "metadata": {},
   "outputs": [
    {
     "data": {
      "text/plain": [
       "torch.Size([1, 2466, 3])"
      ]
     },
     "execution_count": 39,
     "metadata": {},
     "output_type": "execute_result"
    }
   ],
   "source": [
    "test_predictions['pred_coord'][-1].shape"
   ]
  },
  {
   "cell_type": "code",
   "execution_count": 40,
   "metadata": {},
   "outputs": [
    {
     "data": {
      "application/vnd.jupyter.widget-view+json": {
       "model_id": "f3d9781a898e4e5d9edce92b5b849193",
       "version_major": 2,
       "version_minor": 0
      },
      "text/plain": [
       "Output()"
      ]
     },
     "metadata": {},
     "output_type": "display_data"
    }
   ],
   "source": [
    "#对比原始数据\n",
    "visualize_pointcloud(yu_train_sample['points'], .010)"
   ]
  },
  {
   "cell_type": "code",
   "execution_count": null,
   "metadata": {},
   "outputs": [],
   "source": []
  }
 ],
 "metadata": {
  "kernelspec": {
   "display_name": "3dproject",
   "language": "python",
   "name": "python3"
  },
  "language_info": {
   "codemirror_mode": {
    "name": "ipython",
    "version": 3
   },
   "file_extension": ".py",
   "mimetype": "text/x-python",
   "name": "python",
   "nbconvert_exporter": "python",
   "pygments_lexer": "ipython3",
   "version": "3.7.15 (default, Nov 24 2022, 21:12:53) \n[GCC 11.2.0]"
  },
  "orig_nbformat": 4,
  "vscode": {
   "interpreter": {
    "hash": "2cb8d57a847f16fc8404e2dd8b83ca051b33377fcac5c0d474ea003e899540fd"
   }
  }
 },
 "nbformat": 4,
 "nbformat_minor": 2
}
