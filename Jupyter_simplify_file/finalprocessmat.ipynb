{
 "cells": [
  {
   "cell_type": "code",
   "execution_count": 1,
   "metadata": {},
   "outputs": [
    {
     "name": "stderr",
     "output_type": "stream",
     "text": [
      "/home/yiwen/anaconda3/envs/3dproject/lib/python3.7/site-packages/skimage/io/manage_plugins.py:23: UserWarning: Your installed pillow version is < 7.1.0. Several security issues (CVE-2020-11538, CVE-2020-10379, CVE-2020-10994, CVE-2020-10177) have been fixed in pillow 7.1.0 or higher. We recommend to upgrade this library.\n",
      "  from .collection import imread_collection_wrapper\n"
     ]
    }
   ],
   "source": [
    "import os\n",
    "from scipy.spatial.distance import cdist\n",
    "from sklearn.neighbors import KDTree\n",
    "from datasets.aflwnet import AFLW2000\n",
    "from skimage import io, transform\n",
    "from sklearn.neighbors import KDTree\n",
    "import scipy.io\n",
    "import numpy as np"
   ]
  },
  {
   "cell_type": "code",
   "execution_count": 4,
   "metadata": {},
   "outputs": [],
   "source": [
    "with open('AF_mat_path.txt', 'r') as file1, open('AF_txt_path.txt', 'r') as file2:\n",
    "    for line1, line2 in zip(file1, file2):\n",
    "        file_path1 = line1.strip()\n",
    "        file_path2 = line2.strip()\n",
    "        mat = scipy.io.loadmat(file_path1)\n",
    "        points_transposed = np.transpose(mat['pt3d_68'])\n",
    "        \n",
    "        face_3ddata = np.loadtxt(file_path2, delimiter=\",\")\n",
    "        pts, normals = face_3ddata[:, :3], face_3ddata[:, 3:-1]\n",
    "        \n",
    "        tree = KDTree(np.array(pts))\n",
    "    \n",
    "        # Define the radii\n",
    "        radius = [290, 247]\n",
    "\n",
    "        # Define the weights\n",
    "        weights = [1, 2]\n",
    "\n",
    "        # Create an empty weights array\n",
    "        weights_array = np.zeros(np.array(pts.shape)[0])\n",
    "    \n",
    "\n",
    "        # Iterate over the reference points\n",
    "        for point_transposed in points_transposed:\n",
    "            point_of_interest = (point_transposed /1000.)\n",
    "            for i in range(2):\n",
    "                # Query the KDTree for the indices of the points within the specified radius\n",
    "                indices = tree.query_radius(point_of_interest.reshape(1, -1), r=radius[i])\n",
    "\n",
    "                # Assign the corresponding weight to the selected points\n",
    "                weights_array[indices[0]] = weights[i]   \n",
    "        # print(points_weight.shape)\n",
    "        points_weight = np.hstack((pts, normals, weights_array.reshape(-1, 1)))\n",
    "        # print(normals.shape)\n",
    "        if os.path.exists(file_path2):\n",
    "            os.remove(file_path2)\n",
    "        np.savetxt(file_path2, points_weight,delimiter=\",\", fmt=\"%.6f\")"
   ]
  }
 ],
 "metadata": {
  "kernelspec": {
   "display_name": "3dproject",
   "language": "python",
   "name": "python3"
  },
  "language_info": {
   "codemirror_mode": {
    "name": "ipython",
    "version": 3
   },
   "file_extension": ".py",
   "mimetype": "text/x-python",
   "name": "python",
   "nbconvert_exporter": "python",
   "pygments_lexer": "ipython3",
   "version": "3.7.15 (default, Nov 24 2022, 21:12:53) \n[GCC 11.2.0]"
  },
  "orig_nbformat": 4,
  "vscode": {
   "interpreter": {
    "hash": "873ff664c2201aaa206ea38c19d063355debf38f88936f35c8554662ce10ffb8"
   }
  }
 },
 "nbformat": 4,
 "nbformat_minor": 2
}
